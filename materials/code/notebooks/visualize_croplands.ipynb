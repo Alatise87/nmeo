{
 "cells": [
  {
   "cell_type": "markdown",
   "metadata": {
    "id": "A05c2qqRFiW6"
   },
   "source": [
    "## Analyzing cropland mapping predictions\n",
    "\n",
    "This notebook visualizes and analyzes the outputs of Unet model's cropland predictions on PlanetScope NICFI basemap data."
   ]
  },
  {
   "cell_type": "markdown",
   "metadata": {
    "id": "ppF_Qm09F7qo"
   },
   "source": [
    "## Setup\n",
    "\n",
    "Install rasterio and connect Drive folder used to run analysis"
   ]
  },
  {
   "cell_type": "code",
   "execution_count": null,
   "metadata": {
    "colab": {
     "base_uri": "https://localhost:8080/"
    },
    "id": "SKta1CuZGFXg",
    "outputId": "1f6d0a57-4dbb-4f3c-efdd-a57b44c49304"
   },
   "outputs": [],
   "source": [
    "!pip install rasterio"
   ]
  },
  {
   "cell_type": "code",
   "execution_count": null,
   "metadata": {
    "colab": {
     "base_uri": "https://localhost:8080/"
    },
    "id": "3NHzDmVGGSGC",
    "outputId": "0f006868-26f4-4130-a4b3-47d0fb03636c"
   },
   "outputs": [],
   "source": [
    "from google.colab import drive\n",
    "drive.mount(\"/content/gdrive\")"
   ]
  },
  {
   "cell_type": "markdown",
   "metadata": {
    "id": "Yb3eU_eqGI3y"
   },
   "source": [
    "### Libraries"
   ]
  },
  {
   "cell_type": "code",
   "execution_count": null,
   "metadata": {
    "colab": {
     "base_uri": "https://localhost:8080/"
    },
    "id": "tvqZsglkGRSU",
    "outputId": "c3167c21-90a3-4c49-f783-d5a10ef6c640"
   },
   "outputs": [],
   "source": [
    "import os\n",
    "import re\n",
    "\n",
    "import numpy as np\n",
    "import numpy.ma as ma\n",
    "import pandas as pd\n",
    "\n",
    "import matplotlib.pyplot as plt\n",
    "import cv2\n",
    "import gdal\n",
    "import rasterio\n",
    "from rasterio.plot import show\n",
    "from rasterio.plot import reshape_as_raster, reshape_as_image\n",
    "\n",
    "# Supress Warnings\n",
    "import warnings\n",
    "warnings.filterwarnings('ignore')\n",
    "\n",
    "# Magic keywords for Ipython\n",
    "%load_ext autoreload\n",
    "%autoreload 2\n",
    "%matplotlib inline"
   ]
  },
  {
   "cell_type": "markdown",
   "metadata": {
    "id": "yG8ZZkPJHAIj"
   },
   "source": [
    "## Paths"
   ]
  },
  {
   "cell_type": "code",
   "execution_count": null,
   "metadata": {
    "id": "DSqJ-_n2HGXt"
   },
   "outputs": [],
   "source": [
    "config = {\n",
    "    \"working_dir\" : \"/content/gdrive/MyDrive/working_folder\",\n",
    "    \"out_dir\" : \"refine15\",\n",
    "    \n",
    "    \"root_dir\" : \n",
    "        \"/content/gdrive/MyDrive/teaching/geog287387/data/fieldmapping/\",\n",
    "    \"catalog_train_fn\" : \"catalog_ghana_ecaas_ejura_tain.csv\",\n",
    "    \"catalog_pred_fn\" : \"catalog_predict_nicfi_retiled_ejura_tain_2020-11.csv\"\n",
    "}"
   ]
  },
  {
   "cell_type": "markdown",
   "metadata": {
    "id": "RovdlGgiHtUD"
   },
   "source": [
    "# Visualize"
   ]
  },
  {
   "cell_type": "markdown",
   "metadata": {
    "id": "tXNFqhCYIbvX"
   },
   "source": [
    "## Predictions"
   ]
  },
  {
   "cell_type": "code",
   "execution_count": null,
   "metadata": {
    "id": "LMBhY5ZVHXmd"
   },
   "outputs": [],
   "source": [
    "pred_path = f'{config[\"working_dir\"]}/{config[\"out_dir\"]}/Inference_output'\n",
    "preds = [f'{pred_path}/{file}' for file in os.listdir(pred_path)]\n",
    "score_maps = [rasterio.open(p) for p in preds]"
   ]
  },
  {
   "cell_type": "markdown",
   "metadata": {
    "id": "6-NadydrH9Yv"
   },
   "source": [
    "## Images\n",
    "\n",
    "To get the images corresponding to the predictions, we have to use the prediction catalog and the name of the predictions. "
   ]
  },
  {
   "cell_type": "code",
   "execution_count": null,
   "metadata": {
    "colab": {
     "base_uri": "https://localhost:8080/",
     "height": 363
    },
    "id": "OzP-I4q0Iio7",
    "outputId": "b5b6e3c5-f9a8-48f9-c962-30c4f9d6ccc6"
   },
   "outputs": [],
   "source": [
    "pred_cat = pd.read_csv(f'{config[\"root_dir\"]}/{config[\"catalog_pred_fn\"]}')\n",
    "pred_cat"
   ]
  },
  {
   "cell_type": "code",
   "execution_count": null,
   "metadata": {
    "id": "TxtXSPSvIpL0"
   },
   "outputs": [],
   "source": [
    "colrow = [re.sub(\"class*.*score_c|_r|.tif\", \"\", os.path.basename(p)) \\\n",
    "          for p in preds]"
   ]
  },
  {
   "cell_type": "code",
   "execution_count": null,
   "metadata": {
    "colab": {
     "base_uri": "https://localhost:8080/"
    },
    "id": "6ixJokcGJCVh",
    "outputId": "4cbc7771-6d19-4f88-9f3a-c15a09128661"
   },
   "outputs": [],
   "source": [
    "pred_cat[\"tile_col\"].map(str) + pred_cat[\"tile_row\"].map(str)"
   ]
  },
  {
   "cell_type": "markdown",
   "metadata": {
    "id": "tzXmIvJJLRRG"
   },
   "source": [
    "Fortunately, the images are in the same order in the catalog as the predictions are listed, so we can do one to one comparisons. "
   ]
  },
  {
   "cell_type": "code",
   "execution_count": null,
   "metadata": {
    "id": "bBMvWLu6NKbt"
   },
   "outputs": [],
   "source": [
    "images = [rasterio.open(f'{config[\"root_dir\"]}{img[\"dir_os\"]}') \\\n",
    "         for row, img in pred_cat.iterrows()]"
   ]
  },
  {
   "cell_type": "markdown",
   "metadata": {
    "id": "t5ORH0DIWR9D"
   },
   "source": [
    "### Function to rescale image for plotting"
   ]
  },
  {
   "cell_type": "code",
   "execution_count": null,
   "metadata": {
    "id": "QxGptyG9NlfB"
   },
   "outputs": [],
   "source": [
    "def rescale_image(image, bands=(0, 1, 2, 3)):\n",
    "    img = reshape_as_image(image.read())[:,:,bands]\n",
    "    max_vals = [img[:, :, band].max() for band in range(img.shape[-1])]\n",
    "    img = img.astype('float64')\n",
    "    for band in bands:\n",
    "        band_vals = img[:, :, band]\n",
    "        img[:, :, band] = band_vals / max_vals[band]\n",
    "\n",
    "    return img"
   ]
  },
  {
   "cell_type": "markdown",
   "metadata": {
    "id": "kqA2ntfaZ7kE"
   },
   "source": [
    "### Function to plot side by side images"
   ]
  },
  {
   "cell_type": "code",
   "execution_count": null,
   "metadata": {
    "id": "b-LEOS30ZeyL"
   },
   "outputs": [],
   "source": [
    "def image_plotter(image, prediction, fsize):\n",
    "\n",
    "    fig, ax_arr = plt.subplots(1, 2, sharex=True, sharey=True, figsize=fsize)\n",
    "    ax1, ax2 = ax_arr.ravel()\n",
    "    \n",
    "    ax1.imshow(image) \n",
    "    ax1.set_title('Original  image')\n",
    "\n",
    "    ax2.imshow(prediction)\n",
    "    ax2.set_title('Score map')\n",
    "\n",
    "    for ax in ax_arr.ravel():\n",
    "        ax.set_axis_off()\n",
    "\n",
    "    plt.tight_layout()\n",
    "    plt.show()"
   ]
  },
  {
   "cell_type": "code",
   "execution_count": null,
   "metadata": {
    "id": "FPqhxwpVVQ-o"
   },
   "outputs": [],
   "source": [
    "img_rescaled = rescale_image(images[0])\n",
    "score = score_maps[0].read()[0]"
   ]
  },
  {
   "cell_type": "code",
   "execution_count": null,
   "metadata": {
    "colab": {
     "base_uri": "https://localhost:8080/",
     "height": 391
    },
    "id": "itO8btT3S2tD",
    "outputId": "02d5318e-7d88-44fd-fffc-ab3143ad919f"
   },
   "outputs": [],
   "source": [
    "image_plotter(img_rescaled[:,:,(3,2,1)], score, fsize = (10, 10))"
   ]
  },
  {
   "cell_type": "code",
   "execution_count": null,
   "metadata": {
    "id": "I2WgmW1Wcifg"
   },
   "outputs": [],
   "source": [
    "cropland = np.ma.masked_where(score_mask < 50, score_mask)"
   ]
  }
 ],
 "metadata": {
  "colab": {
   "name": "Untitled0.ipynb",
   "provenance": [],
   "toc_visible": true
  },
  "kernelspec": {
   "display_name": "Python 3 (ipykernel)",
   "language": "python",
   "name": "python3"
  },
  "language_info": {
   "codemirror_mode": {
    "name": "ipython",
    "version": 3
   },
   "file_extension": ".py",
   "mimetype": "text/x-python",
   "name": "python",
   "nbconvert_exporter": "python",
   "pygments_lexer": "ipython3",
   "version": "3.8.8"
  }
 },
 "nbformat": 4,
 "nbformat_minor": 4
}
