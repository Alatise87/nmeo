{
 "cells": [
  {
   "cell_type": "markdown",
   "id": "05d6be12-b14e-4fe9-a969-7a9afb643a1b",
   "metadata": {},
   "source": [
    "## Test Planet downloader"
   ]
  },
  {
   "cell_type": "code",
   "execution_count": 176,
   "id": "b4b563ef-4a29-490d-ab5d-061b9af8a2d3",
   "metadata": {},
   "outputs": [],
   "source": [
    "import os\n",
    "import click\n",
    "import yaml\n",
    "import geopandas as gpd\n",
    "from shapely.geometry import box\n",
    "from planet.api import ClientV1, auth, utils\n",
    "\n",
    "\n",
    "import cloudtools as ct\n",
    "import re\n",
    "import urllib\n",
    "import subprocess\n",
    "\n",
    "from boto3.s3.transfer import S3Transfer, TransferConfig"
   ]
  },
  {
   "cell_type": "markdown",
   "id": "856d85a3-f731-448c-972b-254b9c2cac66",
   "metadata": {},
   "source": [
    "## Paths and arguments"
   ]
  },
  {
   "cell_type": "code",
   "execution_count": 232,
   "id": "86e69aea-bc4e-4dc9-86f4-8363cc009e8f",
   "metadata": {},
   "outputs": [],
   "source": [
    "# S3 \n",
    "bucket = 'activemapper'\n",
    "prefix = 'ecaas_2021/nicfi/'\n",
    "\n",
    "# local paths\n",
    "tile_prefix = 'ejura_tain'\n",
    "config_path = '/Users/lestes/Dropbox/projects/activelearning/' +\\\n",
    "              'cscdc/cfgs/config_nicfi_active.yml'\n",
    "\n",
    "# s3 arguments\n",
    "tos3 = 'indirect'  # possible values ['direct', 'indirect', 'no']\n",
    "remove_local = True"
   ]
  },
  {
   "cell_type": "markdown",
   "id": "ba3a18a7-637c-4f9b-bbb3-c9733db1abf7",
   "metadata": {},
   "source": [
    "## Functions"
   ]
  },
  {
   "cell_type": "code",
   "execution_count": 238,
   "id": "2a8ea1c0-aa16-464f-bbba-d537300d9283",
   "metadata": {},
   "outputs": [],
   "source": [
    "def list_s3_images(bucket, prefix, date, suffix='.tif'):\n",
    "    \"\"\"Check AWS bucket to get list of images, to check against to avoid \n",
    "    unnecessary requests\n",
    "    \n",
    "    Parameters:\n",
    "    ----------\n",
    "    bucket : str\n",
    "        Name of S3 bucket to transfer to \n",
    "    prefer : str\n",
    "        Prefix of folder in S3 bucket to transfer into\n",
    "    date : \n",
    "        Date of basemap tiles ('YYYY-MM' format) to check for in bucket\n",
    "        \n",
    "    Returns:\n",
    "    -------\n",
    "    A list of keys\n",
    "    \n",
    "    \"\"\"\n",
    "    s3resource = ct.aws_resource('s3', profile=None)\n",
    "    keys = ct.list_objects(s3resource, bucket = bucket, prefix = prefix, \n",
    "                           suffix = '.tif')\n",
    "    \n",
    "    if isinstance(date, list):\n",
    "        if len(date) > 1:\n",
    "            pattern = '|'.join(date)\n",
    "        else:\n",
    "            pattern = date[0]\n",
    "    elif isinstance(date, str):\n",
    "        pattern = date\n",
    "    \n",
    "    image_list = [key for key in keys if re.search(r'{}'.format(pattern), key)]\n",
    "    \n",
    "    return(image_list)\n"
   ]
  },
  {
   "cell_type": "markdown",
   "id": "05da6ba8-a8d1-4345-9061-d6ce5cce91b4",
   "metadata": {},
   "source": [
    "## Get configurations and create Planet Client"
   ]
  },
  {
   "cell_type": "code",
   "execution_count": 164,
   "id": "982cd762-0d9c-4b65-bb25-55650ce9af48",
   "metadata": {},
   "outputs": [],
   "source": [
    "with open(config_path, 'r') as yaml_file:\n",
    "    config = yaml.safe_load(yaml_file)\n",
    "\n",
    "# Initial Planet client\n",
    "if auth.find_api_key() is None:\n",
    "    utils.write_planet_json({'key': config['planet']['key']})\n",
    "client = ClientV1()"
   ]
  },
  {
   "cell_type": "markdown",
   "id": "2134f99e-8880-464d-8825-15686ce77072",
   "metadata": {},
   "source": [
    "### Load study area"
   ]
  },
  {
   "cell_type": "code",
   "execution_count": 223,
   "id": "fe5f3abd-e676-4643-956a-f7a4a2630380",
   "metadata": {},
   "outputs": [],
   "source": [
    "aoi = gpd.read_file(config['imagery']['geom'])[['geometry']].dissolve()\n",
    "bbox = aoi.total_bounds\n",
    "\n",
    "# Start query\n",
    "# Download images and save out the tile grids.\n",
    "# Create dir\n",
    "if not os.path.exists(config['imagery']['quads_path']):\n",
    "    os.mkdir(config['imagery']['quads_path'])"
   ]
  },
  {
   "cell_type": "markdown",
   "id": "1e189cf9-b0cb-4e66-ab3c-29e1c2021e47",
   "metadata": {},
   "source": [
    "### Create grid of tiles to download\n",
    "\n",
    "The ordering filter uses a bbox, so a query is to get a list of quads intersecting the bounding box of the geometry of our `aoi` (loaded above)"
   ]
  },
  {
   "cell_type": "code",
   "execution_count": 224,
   "id": "b28db47c-d03a-41a8-81aa-b31fc7ed9f4e",
   "metadata": {},
   "outputs": [],
   "source": [
    "# Because the tiles are the same, so just use the first date to get tiles\n",
    "mosaic = client.get_mosaics(name_contains=config['imagery']['dates'][0]).get()['mosaics'][0]\n",
    "quads = client.get_quads(mosaic, bbox=bbox).items_iter(limit=10000)\n",
    "tiles = []\n",
    "ids = []\n",
    "for quad in quads:\n",
    "    tiles.append(box(quad['bbox'][0], quad['bbox'][1],\n",
    "                     quad['bbox'][2], quad['bbox'][3]))\n",
    "    ids.append(quad['id'])"
   ]
  },
  {
   "cell_type": "markdown",
   "id": "ba0af3b3-6b9f-40dc-9bad-f3a0a1a017b6",
   "metadata": {},
   "source": [
    "A spatial inner join is done between the input `aoi` and the geometries of the quads the intersecting the bounding box of the `aoi`, thereby dropping the quads that don't intersect the `aoi`.  "
   ]
  },
  {
   "cell_type": "code",
   "execution_count": 225,
   "id": "2693c09c-5fc0-4377-92ba-d6f074be9a31",
   "metadata": {},
   "outputs": [],
   "source": [
    "tiles = gpd.GeoDataFrame({'tile': ids, 'geometry': tiles}, crs=\"EPSG:4326\")\n",
    "# tiles = gpd.overlay(aoi, tiles)\n",
    "tiles = gpd.sjoin(left_df=tiles, right_df=aoi).drop(columns=['index_right'])\n",
    "file = os.path.join(config['imagery']['tile_path'], \n",
    "                    '{}_tiles_nicfi.geojson'.format(tile_prefix))\n",
    "# tiles.to_file(file, driver='GeoJSON')"
   ]
  },
  {
   "cell_type": "code",
   "execution_count": 231,
   "id": "490cde67-9aca-4c21-892f-4422f55c2e5a",
   "metadata": {},
   "outputs": [
    {
     "data": {
      "text/plain": [
       "<AxesSubplot:>"
      ]
     },
     "execution_count": 231,
     "metadata": {},
     "output_type": "execute_result"
    },
    {
     "data": {
      "image/png": "[encoded data removed]",
      "text/plain": [
       "<Figure size 1800x720 with 1 Axes>"
      ]
     },
     "metadata": {
      "needs_background": "light"
     },
     "output_type": "display_data"
    }
   ],
   "source": [
    "tiles_ss = tiles.iloc[[50]]\n",
    "# tiles\n",
    "# tiles.boundary.plot()\n",
    "\n",
    "ax1 = tiles.boundary.plot(figsize=(25,10))\n",
    "aoi.boundary.plot(ax = ax1, color='black')\n",
    "tiles_ss.boundary.plot(ax = ax1, color='red')"
   ]
  },
  {
   "cell_type": "markdown",
   "id": "08df930e-38c8-49c7-a737-363581f7bae6",
   "metadata": {},
   "source": [
    "### Get list of images on bucket\n",
    "\n",
    "If an S3 transfer option is selected"
   ]
  },
  {
   "cell_type": "code",
   "execution_count": 236,
   "id": "88275f5e-9f5e-4589-89d5-afaa578e7ae5",
   "metadata": {},
   "outputs": [],
   "source": [
    "if tos3 in ['direct', 'indirect']:\n",
    "    \n",
    "    # S3 credentials\n",
    "    s3client = ct.aws_client('s3')\n",
    "    # print(tos3)\n",
    "    image_list = list_s3_images(bucket, prefix, config['imagery']['dates'])\n",
    "    \n",
    "    if tos3 == 'indirect':\n",
    "        s3transfer = S3Transfer(s3client)"
   ]
  },
  {
   "cell_type": "code",
   "execution_count": 237,
   "id": "03e23e46-1ed3-4adb-903a-4fd1dd673545",
   "metadata": {},
   "outputs": [
    {
     "name": "stdout",
     "output_type": "stream",
     "text": [
      "ecaas_2021/nicfi/planet_medres_normalized_analytic_2021-12_mosaic_1010-1067.tif is aleady on S3\n"
     ]
    }
   ],
   "source": [
    "# Download quads, and filter by the tiles\n",
    "for nm_contain in config['imagery']['dates']:\n",
    "    mosaic = client.get_mosaics(name_contains=nm_contain).get()['mosaics'][0]\n",
    "    quads = client.get_quads(mosaic, bbox=bbox).items_iter(limit=10000)\n",
    "    for quad in quads:\n",
    "        #if quad['id'] in list(tiles['tile']):\n",
    "        if quad['id'] in list(tiles_ss['tile']):\n",
    "            \n",
    "            # file name\n",
    "            fname = mosaic['name'] + '_' + quad['id'] + '.tif'\n",
    "            \n",
    "            # get image if not already on s3\n",
    "            if tos3 in ['direct', 'indirect']:\n",
    "                s3_key = os.path.join(s3_prefix, fname)\n",
    "                \n",
    "                if s3_key not in image_list:\n",
    "                    # direct transfer option\n",
    "                    if tos3 == 'direct':\n",
    "                        print('Direct cloud transfer')\n",
    "                        \n",
    "                        download_url = quad['_links']['download']\n",
    "                        with urllib.request.urlopen(download_url) as response:\n",
    "                            s3client.put_object(\n",
    "                                Body = response.read(), Bucket = bucket, \n",
    "                                Key = s3_key\n",
    "                            )\n",
    "                        print('{} transferred directly'.format(s3_key))\n",
    "                            \n",
    "                    # indirect option--first to local then upload (might be more robust)\n",
    "                    elif tos3 == 'indirect':\n",
    "                        print('Indirect transfer to S3'.format(file))\n",
    "\n",
    "                        file = os.path.join(config['imagery']['quads_path'], \n",
    "                                            fname)\n",
    "                        if not os.path.exists(file):\n",
    "                            client.download_quad(quad).get_body().write(file)\n",
    "                        else:\n",
    "                            print('File {} already exists, uploading to S3'.\\\n",
    "                                  format(file))\n",
    "                            \n",
    "                        # Upload to S3\n",
    "                        s3transfer.upload_file(file, bucket, s3_key)\n",
    "                        print('File {} uploaded to S3'.format(file))\n",
    "                        \n",
    "                        if remove_local:\n",
    "                            os.remove(file)\n",
    "                            print('Removed file {}'.format(file))\n",
    "                            \n",
    "                else: \n",
    "                    print('{} is aleady on S3'.format(s3_key))\n",
    "            \n",
    "            # local transfer only\n",
    "            else: \n",
    "                print('Local download only'.format(file))\n",
    "                \n",
    "                file = os.path.join(config['imagery']['quads_path'], fname)\n",
    "\n",
    "                if not os.path.exists(file):\n",
    "                    client.download_quad(quad).get_body().write(file)\n",
    "                else:\n",
    "                    print('File {} already exists locally'.format(file))         "
   ]
  },
  {
   "cell_type": "code",
   "execution_count": null,
   "id": "d583134e-42ed-4a04-bfd0-449fd740b91f",
   "metadata": {},
   "outputs": [],
   "source": []
  }
 ],
 "metadata": {
  "kernelspec": {
   "display_name": "Python 3 (ipykernel)",
   "language": "python",
   "name": "python3"
  },
  "language_info": {
   "codemirror_mode": {
    "name": "ipython",
    "version": 3
   },
   "file_extension": ".py",
   "mimetype": "text/x-python",
   "name": "python",
   "nbconvert_exporter": "python",
   "pygments_lexer": "ipython3",
   "version": "3.8.8"
  }
 },
 "nbformat": 4,
 "nbformat_minor": 5
}
