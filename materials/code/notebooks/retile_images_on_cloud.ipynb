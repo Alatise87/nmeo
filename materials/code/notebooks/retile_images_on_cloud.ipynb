{
 "cells": [
  {
   "cell_type": "markdown",
   "id": "5c170827-0cb6-4c48-b72a-5df10cf3054a",
   "metadata": {},
   "source": [
    "## Demonstration: Reading and reanalyzing high resolution data on AWS"
   ]
  },
  {
   "cell_type": "markdown",
   "id": "6f087466-ec22-496d-af85-62b0db6854f6",
   "metadata": {},
   "source": [
    "In this notebook, you will see how to:\n",
    "\n",
    "- Read and write data from an EC2 instance to/from an AWS S3 bucket\n",
    "- Use python's `rasterio`, `geopandas`, and `shapely` to subset and retile PlanetScope basemap imagery\n",
    "- Calculate NDVI using the retiled data"
   ]
  },
  {
   "cell_type": "markdown",
   "id": "9c6987d7-cd3c-4f41-8c42-a01048ce70d4",
   "metadata": {},
   "source": [
    "## Preparation\n",
    "### Packages"
   ]
  },
  {
   "cell_type": "code",
   "execution_count": 1,
   "id": "1ab4536d-ab43-4784-b632-01d3225b70fb",
   "metadata": {},
   "outputs": [],
   "source": [
    "import cloudtools as ct  # from https://github.com/agroimpacts/cloudtools.git\n",
    "import re\n",
    "import os\n",
    "import errno\n",
    "from subprocess import run\n",
    "\n",
    "import rasterio\n",
    "from rasterio.merge import merge\n",
    "from rasterio import fill\n",
    "from rasterio.plot import show\n",
    "from rasterio.io import MemoryFile\n",
    "from rasterio.warp import reproject, Resampling\n",
    "\n",
    "from shapely.geometry import box\n",
    "import geopandas as gpd\n",
    "from geopandas.tools import sjoin\n",
    "\n",
    "import affine\n",
    "\n",
    "import numpy as np\n",
    "import pandas as pd\n",
    "\n",
    "import tempfile"
   ]
  },
  {
   "cell_type": "markdown",
   "id": "e6097ad3-ba2c-4756-9567-78d46c8544b6",
   "metadata": {},
   "source": [
    "### Functions\n",
    "\n",
    "We'll need the following functions to do the image retiling and reprojection further down."
   ]
  },
  {
   "cell_type": "code",
   "execution_count": null,
   "id": "496f89b7-7941-4cfd-9fba-61ac6891d242",
   "metadata": {},
   "outputs": [],
   "source": [
    "def get_tempfile_name(file_name = 'mosaic.tif'):\n",
    "    \"\"\"Create a temporary filename in the tmp directory\n",
    "    \"\"\"\n",
    "    file_path = os.path.join(\n",
    "        tempfile.gettempdir(), \n",
    "        next(tempfile._get_candidate_names()) + \"_\" + file_name\n",
    "    )\n",
    "#     with tempfile.TemporaryDirectory() as tmp:\n",
    "#         file_path = os.path.join(tmp, file_name)\n",
    "    \n",
    "    return file_path\n",
    "\n",
    "def dst_transform(poly, res = 0.005 / 200):\n",
    "    \"\"\"\n",
    "    Create transform from boundaries of tiles\n",
    "    \n",
    "    Parameters\n",
    "    ----------\n",
    "    poly : GeoDataFrame\n",
    "        Polygon containing dimensions of interest\n",
    "    res : float\n",
    "        Resolution desired for output transform\n",
    "    \n",
    "    Returns\n",
    "    -------\n",
    "    An Affine transform\n",
    "\n",
    "    \"\"\"\n",
    "    bounds = poly['geometry'].bounds.values.flatten()\n",
    "    minx = bounds[0]\n",
    "    maxy = bounds[3]\n",
    "    transform = affine.Affine(res, 0, minx, 0, -res, maxy)\n",
    "    return(transform)\n",
    "\n",
    "\n",
    "def reproject_retile_image(\n",
    "    src_images, dst_transform, dst_width, dst_height, nbands, \n",
    "    dst_crs, fileout, dst_dtype = np.int16, inmemory = True, cleanup=True):\n",
    "    \"\"\"Takes an input images or list of images and merges (if several) and \n",
    "    reprojects and retiles it to align to the resolution and extent defined by\n",
    "    an polygon and associated transform\n",
    "    \n",
    "    \n",
    "    Parameters:\n",
    "    ----------\n",
    "    src_images : list \n",
    "        File path or list of file paths to input image(s). A list of images\n",
    "        will be merged first.\n",
    "    dst_transform : affine\n",
    "        affine transformation object defining projection of output image\n",
    "    dst_width : int \n",
    "        The pixel width of the output image\n",
    "    dst_height : int\n",
    "        The pixel height of the output image\n",
    "    nbands : int\n",
    "        Number of bands in input images\n",
    "    dst_crs : str\n",
    "        Code for output CRS, e.g \"EPSG:4326\"\n",
    "    file_out : str\n",
    "        Output file path and name for output geotiff\n",
    "    dst_dtype : type\n",
    "        Numpy data type (default is int16)\n",
    "    inmemory : bool\n",
    "        If a mosaic should be made in memory or not. Default is True. \n",
    "        If set to False then a mosaic with the mosaic will be \n",
    "        written to disk in a directory called ~/tmp and then removed\n",
    "        upon completion\n",
    "    cleanup : bool\n",
    "        Whether to remove temporary mosaic (if made) or not\n",
    "    \n",
    "    Returns\n",
    "    -------\n",
    "    geotiff of retiled image writen to disk \n",
    "    \"\"\"\n",
    "    \n",
    "    \n",
    "    def reproject_retile(src, nbands, dst_height, dst_width, fileout, dst_dtype): \n",
    "        src_kwargs = src.meta.copy()  # get metadata\n",
    "        kwargs = src_kwargs\n",
    "        kwargs.update({\n",
    "            \"width\": dst_width,\n",
    "            \"height\": dst_height,\n",
    "            \"count\": nbands,\n",
    "            \"crs\": dst_crs,\n",
    "            \"transform\": dst_transform,\n",
    "        })\n",
    "        dst_canvas = np.zeros((nbands, dst_height, dst_width))\n",
    "        for i in range(1, nbands + 1):\n",
    "            dst_canvas[i-1,] = reproject(\n",
    "                source = rasterio.band(src, i),\n",
    "                destination = dst_canvas[i-1,],\n",
    "                src_transform = src.transform,\n",
    "                src_crs = src.crs,\n",
    "                dst_transform = dst_transform,\n",
    "                dst_crs = dst_crs,\n",
    "                resampling = Resampling.cubic\n",
    "            )[0]\n",
    "        with rasterio.open(fileout, \"w\", **kwargs) as dst:\n",
    "            dst.write(np.rint(dst_canvas).astype(dst_dtype))\n",
    "            \n",
    "    # mosaic if list\n",
    "    if type(src_images) is list:\n",
    "        print('Mosaicking {} images'.format(len(src_images)))\n",
    "        \n",
    "        images_to_mosaic = []\n",
    "        for image in src_images:\n",
    "            src = rasterio.open(image)\n",
    "            images_to_mosaic.append(src)\n",
    "\n",
    "        # perform mosaic\n",
    "        mosaic, out_trans = merge(images_to_mosaic)\n",
    "\n",
    "        out_meta = src.meta.copy()\n",
    "        out_meta.update({\n",
    "            \"height\": mosaic.shape[1],\n",
    "            \"width\": mosaic.shape[2],\n",
    "            \"transform\": out_trans,\n",
    "        })\n",
    "        \n",
    "        if inmemory:\n",
    "            print('Mosaicking in memory')\n",
    "            with MemoryFile() as memfile:\n",
    "                with memfile.open(**out_meta) as dst:\n",
    "                    dst.write(mosaic)\n",
    "\n",
    "                print('Reprojecting, retiling {}'.format(os.path.basename(fileout)))\n",
    "                reproject_retile(src, nbands, dst_height, dst_width, fileout, \n",
    "                                 dst_dtype)\n",
    "        else: \n",
    "            temp_mosaic = get_tempfile_name('mosaic.tif')\n",
    "            print('Creating temporary mosaick {}'.format(temp_mosaic))\n",
    "\n",
    "            with rasterio.open(temp_mosaic, \"w\", **out_meta) as dst:\n",
    "                  dst.write(mosaic)\n",
    "            \n",
    "            print('Reprojecting, retiling {}'.format(os.path.basename(fileout)))\n",
    "            with rasterio.open(temp_mosaic, \"r\") as src:\n",
    "                reproject_retile(src, nbands, dst_height, dst_width, fileout, \n",
    "                                 dst_dtype) \n",
    "            \n",
    "            if cleanup: \n",
    "                print('Removing temporary mosaick {}'.format(fileout))\n",
    "                os.remove(temp_mosaic)\n",
    "            \n",
    "    else: \n",
    "        print('Retiling from single image')\n",
    "        # src_image = src_ima\n",
    "        print('Reprojecting, retiling {}'.format(os.path.basename(fileout)))\n",
    "        with rasterio.open(src_images, \"r\") as src:\n",
    "            reproject_retile(src, nbands, dst_height, dst_width, fileout, \n",
    "                             dst_dtype) \n",
    "    \n",
    "    print('Retiling and reprojecting of {} complete!'.format(fileout))"
   ]
  },
  {
   "cell_type": "markdown",
   "id": "8f26a4e9-158b-4257-a8b8-c43d9036db5a",
   "metadata": {},
   "source": [
    "### Directory for local outputs"
   ]
  },
  {
   "cell_type": "code",
   "execution_count": null,
   "id": "216dbdfd-07c8-4f93-b68d-4e02326060fa",
   "metadata": {},
   "outputs": [],
   "source": [
    "proj_dir = os.path.dirname(os.path.dirname(os.path.abspath(os.getcwd())))\n",
    "image_dir = os.path.join(proj_dir, 'projects/images')\n",
    "\n",
    "try:\n",
    "    os.makedirs(image_dir)\n",
    "except OSError as e:\n",
    "    if e.errno != errno.EEXIST:\n",
    "        raise"
   ]
  },
  {
   "cell_type": "markdown",
   "id": "37a64850-3142-414d-9eb5-68375ff06b91",
   "metadata": {},
   "source": [
    "### Datasets"
   ]
  },
  {
   "cell_type": "markdown",
   "id": "e371f28d-92d8-4c4c-a408-936853a72774",
   "metadata": {},
   "source": [
    "#### Images"
   ]
  },
  {
   "cell_type": "markdown",
   "id": "cd63d891-0ae9-4ce5-825c-0845d4a6112f",
   "metadata": {},
   "source": [
    "Create credentials needed to read PlanetScope imagery stored on an S3 bucket called `activemapper`. Use those credentials to create a list of PlanetScope images stored in the bucket. "
   ]
  },
  {
   "cell_type": "code",
   "execution_count": null,
   "id": "270c4202-060a-4d60-a2a8-335107f5094e",
   "metadata": {},
   "outputs": [],
   "source": [
    "s3resource = ct.aws_resource('s3', profile=None)\n",
    "keys = ct.list_objects(s3resource, 'activemapper', 'ecaas_2021/nicfi', '.tif')\n",
    "image_list = [key for key in keys if re.search(r'2021-11', key)]\n",
    "\n",
    "# Print the first ten image names\n",
    "for image in image_list[0:10]:\n",
    "    print(os.path.basename(image))"
   ]
  },
  {
   "cell_type": "markdown",
   "id": "62d93784-2dd2-4f7c-971c-8c3729458bf9",
   "metadata": {},
   "source": [
    "#### Areas of interest\n",
    "\n",
    "Our area of interest with these data is in Ghana, where we have a tiling grid that we use to prepare imagery for land cover mapping using a deep learning model. We are going to use this grid to retile the PlanetScope imagery, which has its own grid, reprojecting it to another coordinate system and resampling it to a slightly finer resolution.  \n",
    "\n",
    "We first need to load in the grid, which is stored as a geojson, also on S3. "
   ]
  },
  {
   "cell_type": "code",
   "execution_count": null,
   "id": "0bb09a0b-5303-4e1d-ad2a-eb4b08bec953",
   "metadata": {},
   "outputs": [],
   "source": [
    "tilefile = \"s3://activemapper/ecaas_2021/geoms/ghana_ejura_tain_buf179.geojson\"\n",
    "tile_polys = gpd.read_file(tilefile)\n",
    "tile_polys = tile_polys.astype(\n",
    "    {\"tile\": \"str\", \"tile_col\": \"int\", \"tile_row\": \"int\"}\n",
    ")"
   ]
  },
  {
   "cell_type": "markdown",
   "id": "9c7f1664-f2eb-44e7-9643-f17a696ce9e0",
   "metadata": {},
   "source": [
    "And then plot it to look at it"
   ]
  },
  {
   "cell_type": "code",
   "execution_count": null,
   "id": "bf89d76f-2a44-408b-86fe-62505534899c",
   "metadata": {},
   "outputs": [],
   "source": [
    "tile_polys.boundary.plot(figsize=(25,10))"
   ]
  },
  {
   "cell_type": "markdown",
   "id": "0d26f185-abbf-4a87-8712-cbd3425b84df",
   "metadata": {},
   "source": [
    "#### Overlap between images and AOI tiles\n",
    "\n",
    "The first thing we want to do is figure out where the image data are in relation to our tile grid. To do that, we need to get the extent of each PlanetScope tiles, and turn that into a set of polygons.  \n",
    "\n",
    "The first thing we need to do is convert the list of file paths we collected for imagery into a set of paths that can be used to read in images using rasterio. "
   ]
  },
  {
   "cell_type": "code",
   "execution_count": null,
   "id": "c07b81cd-b273-4220-af44-1317b558845a",
   "metadata": {},
   "outputs": [],
   "source": [
    "s3path = \"/vsis3/activemapper\"\n",
    "image_paths = [\"{}/{}\".format(s3path, image) for image in image_list]\n",
    "for path in image_paths[0:10]:\n",
    "    print(path)"
   ]
  },
  {
   "cell_type": "markdown",
   "id": "54d758a3-6721-4563-a10c-addec1b0c37b",
   "metadata": {},
   "source": [
    "Note the `/vsis3/` at the front of the path. This is construction used by `gdal` to read data from an S3 bucket (`rasterio` is a package based on `gdal`). \n",
    "\n",
    "We are now going to read through that list of images and collect their bounding boxes, turn them into a geometry, and then combine them into a `GeoDataFrame`. \n",
    "\n",
    "This code block creates a list of polygons. "
   ]
  },
  {
   "cell_type": "code",
   "execution_count": null,
   "id": "1b852adf-cba4-4e73-9bd7-947f0d580171",
   "metadata": {},
   "outputs": [],
   "source": [
    "image_bounds = []\n",
    "for image in image_paths:\n",
    "    img = rasterio.open(image)\n",
    "    geom = box(*img.bounds)\n",
    "    pol = gpd.GeoDataFrame({\"file\":os.path.basename(image),\"geometry\":[geom]})\n",
    "    image_bounds.append(pol)"
   ]
  },
  {
   "cell_type": "markdown",
   "id": "d7491057-3182-4612-a063-216c98c7086a",
   "metadata": {},
   "source": [
    "And this combines them into a `GeoDataFrame`"
   ]
  },
  {
   "cell_type": "code",
   "execution_count": null,
   "id": "725902dc-84a4-4ab2-bb6c-4522742d521b",
   "metadata": {},
   "outputs": [],
   "source": [
    "nicfi_tile_polys = gpd.GeoDataFrame(\n",
    "    pd.concat(image_bounds, ignore_index=True), \n",
    "    crs=img.crs\n",
    ")\n",
    "nicfi_tile_polys"
   ]
  },
  {
   "cell_type": "markdown",
   "id": "00834c7c-b00a-418f-a60d-13017785841b",
   "metadata": {},
   "source": [
    "We'll do a little more to extract the row and column ID from the file name. "
   ]
  },
  {
   "cell_type": "code",
   "execution_count": null,
   "id": "67b5d4fa-a54d-4ef4-ab67-14895ee79672",
   "metadata": {},
   "outputs": [],
   "source": [
    "# def sub_function(variable, position):\n",
    "#     out = re.sub(\"planet*.*mosaic_|.tif\", \"\", variable).split(\"-\")[position]\n",
    "#     return out\n",
    "\n",
    "# nicfi_tile_polys = nicfi_tile_polys.assign(\n",
    "#     row = lambda df: df['file'].map(lambda file: sub_function(file, 0))\n",
    "# ).assign(\n",
    "#     col = lambda df: df['file'].map(lambda file: sub_function(file, 1))\n",
    "# )[['row', 'col', 'file', 'geometry']]\n",
    "\n",
    "def sub_function(variable):\n",
    "    out = re.sub(\"planet*.*mosaic_|.tif\", \"\", variable)\n",
    "    return out\n",
    "\n",
    "nicfi_tile_polys = nicfi_tile_polys.assign(\n",
    "    tile = lambda df: df['file'].map(lambda file: sub_function(file))\n",
    ")[['tile', 'file', 'geometry']]\n",
    "\n",
    "nicfi_tile_polys"
   ]
  },
  {
   "cell_type": "markdown",
   "id": "1443bdba-a125-4b5f-bbf1-e42488d2168b",
   "metadata": {},
   "source": [
    "Let's have a look at the image boundaries (blue). More or less the same shape as our tiling grid. "
   ]
  },
  {
   "cell_type": "code",
   "execution_count": null,
   "id": "38600916-e2cf-45b4-aa5a-a5478cef315d",
   "metadata": {},
   "outputs": [],
   "source": [
    "nicfi_tile_polys.boundary.plot(figsize=(25,10))"
   ]
  },
  {
   "cell_type": "markdown",
   "id": "d591fe8f-a90b-4024-a5dd-ed2bbcbef54e",
   "metadata": {},
   "source": [
    "#### Transform AOI tiles\n",
    "\n",
    "However, the two sets of data are in different coordinate systems, as we can see:"
   ]
  },
  {
   "cell_type": "code",
   "execution_count": null,
   "id": "b5e42748-385c-4d60-bfea-88d33942323e",
   "metadata": {},
   "outputs": [],
   "source": [
    "nicfi_tile_polys.crs"
   ]
  },
  {
   "cell_type": "code",
   "execution_count": null,
   "id": "646bc52f-2ca7-4f6c-ba5f-c09f6085a0a1",
   "metadata": {},
   "outputs": [],
   "source": [
    "tile_polys.crs"
   ]
  },
  {
   "cell_type": "markdown",
   "id": "7c4638ee-9eec-453a-bd8d-bad643e2b96f",
   "metadata": {},
   "source": [
    "So we have to reproject the tiling grid into mercator:"
   ]
  },
  {
   "cell_type": "code",
   "execution_count": null,
   "id": "44cbe67b-ffc0-41fa-a197-38b3bc73cf88",
   "metadata": {},
   "outputs": [],
   "source": [
    "tile_polys_merc = tile_polys.to_crs(nicfi_tile_polys.crs)"
   ]
  },
  {
   "cell_type": "markdown",
   "id": "66285531-cf9e-4081-aa80-f360f2225564",
   "metadata": {},
   "source": [
    "And now we can compare the two together:"
   ]
  },
  {
   "cell_type": "code",
   "execution_count": 3,
   "id": "6f37bfa8-56c2-40ff-a1f5-35c4f3470adc",
   "metadata": {},
   "outputs": [],
   "source": [
    "ax1 = nicfi_tile_polys.boundary.plot(figsize=(25,10))\n",
    "tile_polys_merc.boundary.plot(ax = ax1, color='red')"
   ]
  },
  {
   "cell_type": "markdown",
   "id": "4da0a64e-bc0f-46b6-9585-99e8bcc9610a",
   "metadata": {},
   "source": [
    "The image boundaries (blue) are much larger than the tile grid (red). "
   ]
  },
  {
   "cell_type": "markdown",
   "id": "1d758d4a-9af0-4376-913e-6c80e2a5f3d1",
   "metadata": {
    "tags": []
   },
   "source": [
    "## Select image subset\n",
    "\n",
    "Now let's select one of red tiles and then use that to:\n",
    "\n",
    "1. Pull out a subset of the PlanetScope data corresponding to the tile boundaries\n",
    "2. Reproject that imagery and resample it\n",
    "3. Store it in a new bucket for later analysis\n",
    "\n",
    "You will see above that the two grids are not exactly aligned, so one of the red tiles might actually overlap several PlanetScope images. So we will:\n",
    "\n",
    "4. Select a specific tile\n",
    "5. See which PlanetScope images it intersects"
   ]
  },
  {
   "cell_type": "code",
   "execution_count": null,
   "id": "2b5ea7d6-25d3-4feb-b7e6-833077a6b924",
   "metadata": {},
   "outputs": [],
   "source": [
    "# index\n",
    "tile = tile_polys_merc.iloc[[499]]\n",
    "tiles_int = sjoin(tile, nicfi_tile_polys, how='left')\n",
    "tiles_int"
   ]
  },
  {
   "cell_type": "markdown",
   "id": "f4cb8605-95cd-4309-9ca1-6904a580a30a",
   "metadata": {},
   "source": [
    "We use a spatial join to identify intersecting NICFI tiles (identified with the columns index_right, tile_right, and file). These correspond to our selected tile (red below), which is tile565867 (tile_left). It overlaps four NICFI images (grey). "
   ]
  },
  {
   "cell_type": "code",
   "execution_count": null,
   "id": "550ee802-5b2f-436e-aa91-1c2adf7048cb",
   "metadata": {},
   "outputs": [],
   "source": [
    "nicfi_tiles_int = nicfi_tile_polys[nicfi_tile_polys['file'].isin(tiles_int['file'])]\n",
    "\n",
    "ax1 = nicfi_tile_polys.boundary.plot(figsize=(25,10))\n",
    "nicfi_tiles_int.plot(ax = ax1, color='grey')\n",
    "tile.boundary.plot(ax = ax1, color='red')"
   ]
  },
  {
   "cell_type": "markdown",
   "id": "868961e9-9916-4d3f-8839-20b2296658e4",
   "metadata": {},
   "source": [
    "## Retile and resample images\n",
    "\n",
    "Read image(s) to subset into a list"
   ]
  },
  {
   "cell_type": "code",
   "execution_count": 5,
   "id": "1b7c5900-222b-41dd-a0a7-5832f27d2a69",
   "metadata": {},
   "outputs": [],
   "source": [
    "if len(nicfi_tiles_int['file']) > 1:\n",
    "    image_list = ['/vsis3/activemapper/ecaas_2021/nicfi/{}'.format(file) \\\n",
    "                  for file in nicfi_tiles_int['file']]\n",
    "else: \n",
    "    image_list = '/vsis3/activemapper/ecaas_2021/nicfi/{}'.format(\n",
    "        nicfi_tiles_int['file'].values[0]\n",
    "    )\n",
    "image_list"
   ]
  },
  {
   "cell_type": "markdown",
   "id": "bf881d5e-161d-4221-ac9a-36dfb4bae863",
   "metadata": {},
   "source": [
    "### Output paths\n",
    "\n",
    "Set up output paths for image and COG version of image (the final one we want)"
   ]
  },
  {
   "cell_type": "code",
   "execution_count": null,
   "id": "78bb2654-b3a1-4beb-82e9-7721916b9ab7",
   "metadata": {},
   "outputs": [],
   "source": [
    "dst_img = '{}/{}_2021-11_buf179.tif'.format(\n",
    "    image_dir, \n",
    "    tile['tile'].values.flatten()[0]\n",
    ")\n",
    "dst_cog = re.sub('.tif', '_cog.tif', dst_img)"
   ]
  },
  {
   "cell_type": "markdown",
   "id": "406b4d9f-c00e-42bd-95af-c4a1a53f13c6",
   "metadata": {},
   "source": [
    "### Define the output extent and projection\n",
    "\n",
    "By using the the GCS version of the tile polygon"
   ]
  },
  {
   "cell_type": "code",
   "execution_count": null,
   "id": "318bb30c-fe15-4fb8-9b73-f6d6ae12adb3",
   "metadata": {},
   "outputs": [],
   "source": [
    "poly = tile_polys[tile_polys['tile'].isin(tile['tile'])]\n",
    "transform = dst_transform(poly)"
   ]
  },
  {
   "cell_type": "markdown",
   "id": "f3969597-259d-43ef-95fd-742ab2f7784e",
   "metadata": {},
   "source": [
    "### Retile and reproject"
   ]
  },
  {
   "cell_type": "code",
   "execution_count": null,
   "id": "06439b73-7a2c-49c8-880c-a2e86812ea1f",
   "metadata": {},
   "outputs": [],
   "source": [
    "reproject_retile_image(image_list, transform, 2358, 2358, 4, \"EPSG:4326\", \n",
    "                       dst_img, inmemory=False)"
   ]
  },
  {
   "cell_type": "markdown",
   "id": "d7d3c584-6185-4d3d-94e0-dd7d5ec1fd89",
   "metadata": {},
   "source": [
    "## Create Cloud-Optimized Geotiff\n",
    "\n",
    "To optimize the image for use in cloud storage\n",
    "\n",
    "First create the COG."
   ]
  },
  {
   "cell_type": "code",
   "execution_count": null,
   "id": "637e3dba-3d5e-44b7-876c-85e3536ab37b",
   "metadata": {},
   "outputs": [],
   "source": [
    "cmd = ['rio', 'cogeo', 'create', '-b', '1,2,3,4', dst_img, dst_cog]\n",
    "p = run(cmd, capture_output=True)\n",
    "msg = p.stderr.decode().split('\\n')\n",
    "msg[-2]"
   ]
  },
  {
   "cell_type": "markdown",
   "id": "f2132b5c-6409-4c36-aeb7-5cca8c3a787d",
   "metadata": {},
   "source": [
    "Then check that it is valid"
   ]
  },
  {
   "cell_type": "code",
   "execution_count": 8,
   "id": "56dd2e94-8bfe-4028-abb3-9d366498eb6c",
   "metadata": {
    "tags": []
   },
   "outputs": [],
   "source": [
    "cog = rasterio.open(dst_cog).read([3,2,1])\n",
    "cog_norm = (cog - cog.min()) / (cog.max() - cog.min())\n",
    "\n",
    "ax1 = poly.boundary.plot(figsize=(25,10))\n",
    "show(cog_norm, ax=ax1)\n",
    "# poly.boundary.plot(ax = ax1, color='red'"
   ]
  },
  {
   "cell_type": "markdown",
   "id": "2618bd86-34ca-4ad6-b323-2ee3e94a9c89",
   "metadata": {},
   "source": [
    "## Move to S3\n",
    "\n",
    "We will write this a separate S3 bucket `s3://geog287387`. You will specify your own folder names underneath that. "
   ]
  },
  {
   "cell_type": "code",
   "execution_count": 9,
   "id": "dcf08ae2-1d6b-4f30-a98e-67a88c493314",
   "metadata": {},
   "outputs": [],
   "source": [
    "myusername = 'testuser'\n",
    "foldername = 'nicfi'\n",
    "\n",
    "bucket = 'geog287387'  # don't change this"
   ]
  },
  {
   "cell_type": "markdown",
   "id": "565416b7-dfa7-484c-808e-22eedeb711bb",
   "metadata": {},
   "source": [
    "We'll use these to create AWS credentials and a move to move the file into."
   ]
  },
  {
   "cell_type": "code",
   "execution_count": null,
   "id": "e9c64f66-8499-46a5-864c-12f4becc3af9",
   "metadata": {},
   "outputs": [],
   "source": [
    "s3_client = ct.aws_client('s3', profile=None)\n",
    "s3_file = '{}/{}/{}'.format(myusername, foldername, os.path.basename(dst_cog))\n",
    "s3_file"
   ]
  },
  {
   "cell_type": "markdown",
   "id": "722799f0-d5b8-4e13-bccc-2bf9c8579350",
   "metadata": {},
   "source": [
    "And upload to S3"
   ]
  },
  {
   "cell_type": "code",
   "execution_count": null,
   "id": "a6c5ee4f-2461-47be-8c60-90f4790e74f1",
   "metadata": {},
   "outputs": [],
   "source": [
    "with open(dst_cog, \"rb\") as f:\n",
    "    s3_client.upload_fileobj(f, bucket, s3_file)"
   ]
  },
  {
   "cell_type": "markdown",
   "id": "6db89a3a-9b78-45cc-a605-dbd8507d4e91",
   "metadata": {},
   "source": [
    "### Check image on S3\n",
    "\n",
    "Now let's check it on S3, both by looking at the console and by querying the bucket from here"
   ]
  },
  {
   "cell_type": "code",
   "execution_count": null,
   "id": "afc70be5-f343-4028-8778-d14babd573b4",
   "metadata": {},
   "outputs": [],
   "source": [
    "s3resource = ct.aws_resource('s3', profile=None)\n",
    "keys = ct.list_objects(s3resource, bucket, myusername + \"/\" + foldername)\n",
    "# image_list = [key for key in keys if re.search(r'2021-11', key)]\n",
    "keys"
   ]
  },
  {
   "cell_type": "markdown",
   "id": "93ec56c1-c949-4fc8-8cc2-647a489d8afa",
   "metadata": {},
   "source": [
    "That shows you which images are on your bucket.\n",
    "\n",
    "Now let's read the image in directly from the bucket and plot it here."
   ]
  },
  {
   "cell_type": "code",
   "execution_count": null,
   "id": "361f4bf3-c89e-4266-a9a3-3d0625bf94fa",
   "metadata": {},
   "outputs": [],
   "source": [
    "s3cog_path = '/vsis3/{}/{}'.format(bucket, s3_file)\n",
    "s3cog = rasterio.open(s3cog_path)\n",
    "\n",
    "ax1 = poly.boundary.plot(figsize=(25,10))\n",
    "show(s3cog, ax = ax1)"
   ]
  },
  {
   "cell_type": "markdown",
   "id": "512688ea-7f86-41c0-881f-0aa09688a837",
   "metadata": {},
   "source": [
    "Now that we have our image on S3, we can remove it from our local directory. Let's first see what is in it:"
   ]
  },
  {
   "cell_type": "code",
   "execution_count": null,
   "id": "941a862e-09fb-47e9-b66d-8d1bd77c86f9",
   "metadata": {},
   "outputs": [],
   "source": [
    "os.listdir(image_dir)"
   ]
  },
  {
   "cell_type": "markdown",
   "id": "aad236f9-f9f5-419b-b4b3-9aa63d3112e5",
   "metadata": {},
   "source": [
    "And we can remove the files we created by name"
   ]
  },
  {
   "cell_type": "code",
   "execution_count": null,
   "id": "467cc83e-d975-4d31-af66-0c4fc578ceb6",
   "metadata": {},
   "outputs": [],
   "source": [
    "for f in [dst_img, dst_cog]:\n",
    "    os.remove(f)"
   ]
  },
  {
   "cell_type": "markdown",
   "id": "9791b0cd-888a-4ce9-a074-f9b295d64c5c",
   "metadata": {},
   "source": [
    "os.listdir(image_dir)"
   ]
  },
  {
   "cell_type": "markdown",
   "id": "00f5d44a-4dc6-4496-8c01-3e1da3f60d58",
   "metadata": {},
   "source": [
    "## Assignment\n",
    "\n",
    "Now that you have seen all the steps for selecting and retiling an image, try this again, but with a new tile selected from our tile grid. Go back up to the [Select Image Subset](#Select-image-subset) section, and choose a new tile ID, and work back down to here. "
   ]
  }
 ],
 "metadata": {
  "kernelspec": {
   "display_name": "Python 3 (ipykernel)",
   "language": "python",
   "name": "python3"
  },
  "language_info": {
   "codemirror_mode": {
    "name": "ipython",
    "version": 3
   },
   "file_extension": ".py",
   "mimetype": "text/x-python",
   "name": "python",
   "nbconvert_exporter": "python",
   "pygments_lexer": "ipython3",
   "version": "3.8.8"
  }
 },
 "nbformat": 4,
 "nbformat_minor": 5
}
