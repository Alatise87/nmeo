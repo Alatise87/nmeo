{
 "cells": [
  {
   "cell_type": "code",
   "execution_count": 69,
   "metadata": {},
   "outputs": [],
   "source": [
    "import ee\n",
    "import pandas as pd\n",
    "import matplotlib.pyplot as plt\n",
    "import os\n",
    "#plt.style.use(['dark_background'])\n",
    "ee.Initialize()"
   ]
  },
  {
   "cell_type": "markdown",
   "metadata": {},
   "source": [
    "## create point feature"
   ]
  },
  {
   "cell_type": "code",
   "execution_count": 12,
   "metadata": {},
   "outputs": [
    {
     "name": "stdout",
     "output_type": "stream",
     "text": [
      "server side\n",
      "ee.Geometry({\n",
      "  \"functionInvocationValue\": {\n",
      "    \"functionName\": \"GeometryConstructors.Point\",\n",
      "    \"arguments\": {\n",
      "      \"coordinates\": {\n",
      "        \"constantValue\": [\n",
      "          28.1511,\n",
      "          -12.6258\n",
      "        ]\n",
      "      }\n",
      "    }\n",
      "  }\n",
      "})\n",
      "<class 'ee.geometry.Geometry'>\n",
      "\n",
      "client side\n",
      "{'type': 'Point', 'coordinates': [28.1511, -12.6258]}\n",
      "<class 'dict'>\n"
     ]
    }
   ],
   "source": [
    "pt_lon = 28.1511\n",
    "pt_lat = -12.6258\n",
    "\n",
    "ee_pt = ee.Geometry.Point([pt_lon, pt_lat]);\n",
    "\n",
    "print(\"server side\")\n",
    "print(ee_pt)\n",
    "print(type(ee_pt))\n",
    "\n",
    "print(\"\")\n",
    "\n",
    "print(\"client side\")\n",
    "print(ee_pt.getInfo())\n",
    "print(type(ee_pt.getInfo()))"
   ]
  },
  {
   "cell_type": "markdown",
   "metadata": {},
   "source": [
    "## Get Sentinel-2 data"
   ]
  },
  {
   "cell_type": "code",
   "execution_count": 30,
   "metadata": {},
   "outputs": [
    {
     "name": "stdout",
     "output_type": "stream",
     "text": [
      "There are 38 scenes in the collection.\n"
     ]
    }
   ],
   "source": [
    "start_date = '2020-10-01'\n",
    "end_date = '2021-04-13'\n",
    "\n",
    "s2_pt = ee.ImageCollection(\"COPERNICUS/S2_SR\").filterBounds(ee_pt).filterDate(start_date, end_date)\n",
    "\n",
    "print(\"There are {} scenes in the collection.\".format(s2_pt.size().getInfo()))"
   ]
  },
  {
   "cell_type": "markdown",
   "metadata": {},
   "source": [
    "## Get metadata for one scene"
   ]
  },
  {
   "cell_type": "code",
   "execution_count": 32,
   "metadata": {},
   "outputs": [
    {
     "data": {
      "text/plain": [
       "{'type': 'Image',\n",
       " 'bands': [{'id': 'B1',\n",
       "   'data_type': {'type': 'PixelType',\n",
       "    'precision': 'int',\n",
       "    'min': 0,\n",
       "    'max': 65535},\n",
       "   'dimensions': [1830, 1830],\n",
       "   'crs': 'EPSG:32735',\n",
       "   'crs_transform': [60, 0, 600000, 0, -60, 8700040]},\n",
       "  {'id': 'B2',\n",
       "   'data_type': {'type': 'PixelType',\n",
       "    'precision': 'int',\n",
       "    'min': 0,\n",
       "    'max': 65535},\n",
       "   'dimensions': [10980, 10980],\n",
       "   'crs': 'EPSG:32735',\n",
       "   'crs_transform': [10, 0, 600000, 0, -10, 8700040]},\n",
       "  {'id': 'B3',\n",
       "   'data_type': {'type': 'PixelType',\n",
       "    'precision': 'int',\n",
       "    'min': 0,\n",
       "    'max': 65535},\n",
       "   'dimensions': [10980, 10980],\n",
       "   'crs': 'EPSG:32735',\n",
       "   'crs_transform': [10, 0, 600000, 0, -10, 8700040]},\n",
       "  {'id': 'B4',\n",
       "   'data_type': {'type': 'PixelType',\n",
       "    'precision': 'int',\n",
       "    'min': 0,\n",
       "    'max': 65535},\n",
       "   'dimensions': [10980, 10980],\n",
       "   'crs': 'EPSG:32735',\n",
       "   'crs_transform': [10, 0, 600000, 0, -10, 8700040]},\n",
       "  {'id': 'B5',\n",
       "   'data_type': {'type': 'PixelType',\n",
       "    'precision': 'int',\n",
       "    'min': 0,\n",
       "    'max': 65535},\n",
       "   'dimensions': [5490, 5490],\n",
       "   'crs': 'EPSG:32735',\n",
       "   'crs_transform': [20, 0, 600000, 0, -20, 8700040]},\n",
       "  {'id': 'B6',\n",
       "   'data_type': {'type': 'PixelType',\n",
       "    'precision': 'int',\n",
       "    'min': 0,\n",
       "    'max': 65535},\n",
       "   'dimensions': [5490, 5490],\n",
       "   'crs': 'EPSG:32735',\n",
       "   'crs_transform': [20, 0, 600000, 0, -20, 8700040]},\n",
       "  {'id': 'B7',\n",
       "   'data_type': {'type': 'PixelType',\n",
       "    'precision': 'int',\n",
       "    'min': 0,\n",
       "    'max': 65535},\n",
       "   'dimensions': [5490, 5490],\n",
       "   'crs': 'EPSG:32735',\n",
       "   'crs_transform': [20, 0, 600000, 0, -20, 8700040]},\n",
       "  {'id': 'B8',\n",
       "   'data_type': {'type': 'PixelType',\n",
       "    'precision': 'int',\n",
       "    'min': 0,\n",
       "    'max': 65535},\n",
       "   'dimensions': [10980, 10980],\n",
       "   'crs': 'EPSG:32735',\n",
       "   'crs_transform': [10, 0, 600000, 0, -10, 8700040]},\n",
       "  {'id': 'B8A',\n",
       "   'data_type': {'type': 'PixelType',\n",
       "    'precision': 'int',\n",
       "    'min': 0,\n",
       "    'max': 65535},\n",
       "   'dimensions': [5490, 5490],\n",
       "   'crs': 'EPSG:32735',\n",
       "   'crs_transform': [20, 0, 600000, 0, -20, 8700040]},\n",
       "  {'id': 'B9',\n",
       "   'data_type': {'type': 'PixelType',\n",
       "    'precision': 'int',\n",
       "    'min': 0,\n",
       "    'max': 65535},\n",
       "   'dimensions': [1830, 1830],\n",
       "   'crs': 'EPSG:32735',\n",
       "   'crs_transform': [60, 0, 600000, 0, -60, 8700040]},\n",
       "  {'id': 'B11',\n",
       "   'data_type': {'type': 'PixelType',\n",
       "    'precision': 'int',\n",
       "    'min': 0,\n",
       "    'max': 65535},\n",
       "   'dimensions': [5490, 5490],\n",
       "   'crs': 'EPSG:32735',\n",
       "   'crs_transform': [20, 0, 600000, 0, -20, 8700040]},\n",
       "  {'id': 'B12',\n",
       "   'data_type': {'type': 'PixelType',\n",
       "    'precision': 'int',\n",
       "    'min': 0,\n",
       "    'max': 65535},\n",
       "   'dimensions': [5490, 5490],\n",
       "   'crs': 'EPSG:32735',\n",
       "   'crs_transform': [20, 0, 600000, 0, -20, 8700040]},\n",
       "  {'id': 'AOT',\n",
       "   'data_type': {'type': 'PixelType',\n",
       "    'precision': 'int',\n",
       "    'min': 0,\n",
       "    'max': 65535},\n",
       "   'dimensions': [10980, 10980],\n",
       "   'crs': 'EPSG:32735',\n",
       "   'crs_transform': [10, 0, 600000, 0, -10, 8700040]},\n",
       "  {'id': 'WVP',\n",
       "   'data_type': {'type': 'PixelType',\n",
       "    'precision': 'int',\n",
       "    'min': 0,\n",
       "    'max': 65535},\n",
       "   'dimensions': [10980, 10980],\n",
       "   'crs': 'EPSG:32735',\n",
       "   'crs_transform': [10, 0, 600000, 0, -10, 8700040]},\n",
       "  {'id': 'SCL',\n",
       "   'data_type': {'type': 'PixelType',\n",
       "    'precision': 'int',\n",
       "    'min': 0,\n",
       "    'max': 255},\n",
       "   'dimensions': [5490, 5490],\n",
       "   'crs': 'EPSG:32735',\n",
       "   'crs_transform': [20, 0, 600000, 0, -20, 8700040]},\n",
       "  {'id': 'TCI_R',\n",
       "   'data_type': {'type': 'PixelType',\n",
       "    'precision': 'int',\n",
       "    'min': 0,\n",
       "    'max': 255},\n",
       "   'dimensions': [10980, 10980],\n",
       "   'crs': 'EPSG:32735',\n",
       "   'crs_transform': [10, 0, 600000, 0, -10, 8700040]},\n",
       "  {'id': 'TCI_G',\n",
       "   'data_type': {'type': 'PixelType',\n",
       "    'precision': 'int',\n",
       "    'min': 0,\n",
       "    'max': 255},\n",
       "   'dimensions': [10980, 10980],\n",
       "   'crs': 'EPSG:32735',\n",
       "   'crs_transform': [10, 0, 600000, 0, -10, 8700040]},\n",
       "  {'id': 'TCI_B',\n",
       "   'data_type': {'type': 'PixelType',\n",
       "    'precision': 'int',\n",
       "    'min': 0,\n",
       "    'max': 255},\n",
       "   'dimensions': [10980, 10980],\n",
       "   'crs': 'EPSG:32735',\n",
       "   'crs_transform': [10, 0, 600000, 0, -10, 8700040]},\n",
       "  {'id': 'MSK_CLDPRB',\n",
       "   'data_type': {'type': 'PixelType',\n",
       "    'precision': 'int',\n",
       "    'min': 0,\n",
       "    'max': 255},\n",
       "   'dimensions': [5490, 5490],\n",
       "   'crs': 'EPSG:32735',\n",
       "   'crs_transform': [20, 0, 600000, 0, -20, 8700040]},\n",
       "  {'id': 'MSK_SNWPRB',\n",
       "   'data_type': {'type': 'PixelType',\n",
       "    'precision': 'int',\n",
       "    'min': 0,\n",
       "    'max': 255},\n",
       "   'dimensions': [5490, 5490],\n",
       "   'crs': 'EPSG:32735',\n",
       "   'crs_transform': [20, 0, 600000, 0, -20, 8700040]},\n",
       "  {'id': 'QA10',\n",
       "   'data_type': {'type': 'PixelType',\n",
       "    'precision': 'int',\n",
       "    'min': 0,\n",
       "    'max': 65535},\n",
       "   'dimensions': [10980, 10980],\n",
       "   'crs': 'EPSG:32735',\n",
       "   'crs_transform': [10, 0, 600000, 0, -10, 8700040]},\n",
       "  {'id': 'QA20',\n",
       "   'data_type': {'type': 'PixelType',\n",
       "    'precision': 'int',\n",
       "    'min': 0,\n",
       "    'max': 4294967295},\n",
       "   'dimensions': [5490, 5490],\n",
       "   'crs': 'EPSG:32735',\n",
       "   'crs_transform': [20, 0, 600000, 0, -20, 8700040]},\n",
       "  {'id': 'QA60',\n",
       "   'data_type': {'type': 'PixelType',\n",
       "    'precision': 'int',\n",
       "    'min': 0,\n",
       "    'max': 65535},\n",
       "   'dimensions': [1830, 1830],\n",
       "   'crs': 'EPSG:32735',\n",
       "   'crs_transform': [60, 0, 600000, 0, -60, 8700040]}],\n",
       " 'id': 'COPERNICUS/S2_SR/20201004T080759_20201004T083035_T35LPG',\n",
       " 'version': 1601930434698654,\n",
       " 'properties': {'DATATAKE_IDENTIFIER': 'GS2B_20201004T080759_018694_N02.14',\n",
       "  'AOT_RETRIEVAL_ACCURACY': 0,\n",
       "  'SPACECRAFT_NAME': 'Sentinel-2B',\n",
       "  'SATURATED_DEFECTIVE_PIXEL_PERCENTAGE': 0,\n",
       "  'MEAN_INCIDENCE_AZIMUTH_ANGLE_B8A': 286.026731615859,\n",
       "  'CLOUD_SHADOW_PERCENTAGE': 0.001196,\n",
       "  'MEAN_SOLAR_AZIMUTH_ANGLE': 70.8163688476207,\n",
       "  'system:footprint': {'type': 'LinearRing',\n",
       "   'coordinates': [[27.91777169501849, -11.757935340937252],\n",
       "    [27.917680065763413, -11.758005247704677],\n",
       "    [27.919361566920678, -12.25435270402626],\n",
       "    [27.921118052888957, -12.750661630293928],\n",
       "    [27.921189656437367, -12.750751357155432],\n",
       "    [28.520315700756058, -12.747985676946396],\n",
       "    [28.520606730947215, -12.747012714866942],\n",
       "    [28.525988425122346, -12.722841867451315],\n",
       "    [28.600705821287526, -12.386662678867733],\n",
       "    [28.68332004936656, -12.013547704098134],\n",
       "    [28.697251866301492, -11.95054673328088],\n",
       "    [28.735799323050195, -11.77458016428286],\n",
       "    [28.73847336533486, -11.762088749194582],\n",
       "    [28.740078943482143, -11.754476211396417],\n",
       "    [28.740077164259986, -11.754195540743213],\n",
       "    [28.740005550551594, -11.75410597031439],\n",
       "    [27.91777169501849, -11.757935340937252]]},\n",
       "  'VEGETATION_PERCENTAGE': 55.700094,\n",
       "  'SOLAR_IRRADIANCE_B12': 87.75,\n",
       "  'SOLAR_IRRADIANCE_B10': 365.41,\n",
       "  'SENSOR_QUALITY': 'PASSED',\n",
       "  'SOLAR_IRRADIANCE_B11': 247.08,\n",
       "  'GENERATION_TIME': 1601808408000,\n",
       "  'SOLAR_IRRADIANCE_B8A': 953.93,\n",
       "  'FORMAT_CORRECTNESS': 'PASSED',\n",
       "  'CLOUD_COVERAGE_ASSESSMENT': 0.055221000000000006,\n",
       "  'THIN_CIRRUS_PERCENTAGE': 0.002129,\n",
       "  'system:time_end': 1601800418259,\n",
       "  'WATER_VAPOUR_RETRIEVAL_ACCURACY': 0,\n",
       "  'system:time_start': 1601800418259,\n",
       "  'DATASTRIP_ID': 'S2B_OPER_MSI_L2A_DS_VGS2_20201004T104648_S20201004T083035_N02.14',\n",
       "  'PROCESSING_BASELINE': '02.14',\n",
       "  'SENSING_ORBIT_NUMBER': 78,\n",
       "  'NODATA_PIXEL_PERCENTAGE': 29.552543,\n",
       "  'SENSING_ORBIT_DIRECTION': 'DESCENDING',\n",
       "  'GENERAL_QUALITY': 'PASSED',\n",
       "  'GRANULE_ID': 'L2A_T35LPG_A018694_20201004T083035',\n",
       "  'REFLECTANCE_CONVERSION_CORRECTION': 0.998138781695356,\n",
       "  'MEDIUM_PROBA_CLOUDS_PERCENTAGE': 0.039476,\n",
       "  'MEAN_INCIDENCE_AZIMUTH_ANGLE_B8': 284.616636115719,\n",
       "  'DATATAKE_TYPE': 'INS-NOBS',\n",
       "  'MEAN_INCIDENCE_AZIMUTH_ANGLE_B9': 286.355901436866,\n",
       "  'MEAN_INCIDENCE_AZIMUTH_ANGLE_B6': 285.637438522286,\n",
       "  'MEAN_INCIDENCE_AZIMUTH_ANGLE_B7': 285.83730981322,\n",
       "  'MEAN_INCIDENCE_AZIMUTH_ANGLE_B4': 285.207232993675,\n",
       "  'MEAN_INCIDENCE_ZENITH_ANGLE_B1': 8.91921160432158,\n",
       "  'NOT_VEGETATED_PERCENTAGE': 42.952085,\n",
       "  'MEAN_INCIDENCE_AZIMUTH_ANGLE_B5': 285.402448279165,\n",
       "  'RADIOMETRIC_QUALITY': 'PASSED',\n",
       "  'MEAN_INCIDENCE_AZIMUTH_ANGLE_B2': 284.41209038132,\n",
       "  'MEAN_INCIDENCE_AZIMUTH_ANGLE_B3': 284.833168156138,\n",
       "  'MEAN_INCIDENCE_ZENITH_ANGLE_B5': 8.81245926301592,\n",
       "  'MEAN_INCIDENCE_AZIMUTH_ANGLE_B1': 286.149905720535,\n",
       "  'MEAN_INCIDENCE_ZENITH_ANGLE_B4': 8.79215511115387,\n",
       "  'MEAN_INCIDENCE_ZENITH_ANGLE_B3': 8.76083734326847,\n",
       "  'MEAN_INCIDENCE_ZENITH_ANGLE_B2': 8.7307243991537,\n",
       "  'MEAN_INCIDENCE_ZENITH_ANGLE_B9': 8.95197447613238,\n",
       "  'MEAN_INCIDENCE_ZENITH_ANGLE_B8': 8.75006858293165,\n",
       "  'MEAN_INCIDENCE_ZENITH_ANGLE_B7': 8.85755720683838,\n",
       "  'DARK_FEATURES_PERCENTAGE': 0.816981,\n",
       "  'HIGH_PROBA_CLOUDS_PERCENTAGE': 0.013616,\n",
       "  'MEAN_INCIDENCE_ZENITH_ANGLE_B6': 8.8324679978354,\n",
       "  'UNCLASSIFIED_PERCENTAGE': 0.241568,\n",
       "  'MEAN_SOLAR_ZENITH_ANGLE': 21.4914841835095,\n",
       "  'MEAN_INCIDENCE_ZENITH_ANGLE_B8A': 8.88225031828842,\n",
       "  'RADIATIVE_TRANSFER_ACCURACY': 0,\n",
       "  'MGRS_TILE': '35LPG',\n",
       "  'CLOUDY_PIXEL_PERCENTAGE': 0.055221,\n",
       "  'PRODUCT_ID': 'S2B_MSIL2A_20201004T080759_N0214_R078_T35LPG_20201004T104648',\n",
       "  'MEAN_INCIDENCE_ZENITH_ANGLE_B10': 8.7788120723733,\n",
       "  'SOLAR_IRRADIANCE_B9': 817.58,\n",
       "  'SNOW_ICE_PERCENTAGE': 0,\n",
       "  'DEGRADED_MSI_DATA_PERCENTAGE': 0,\n",
       "  'MEAN_INCIDENCE_ZENITH_ANGLE_B11': 8.82829458524249,\n",
       "  'MEAN_INCIDENCE_ZENITH_ANGLE_B12': 8.89549790030252,\n",
       "  'SOLAR_IRRADIANCE_B6': 1291.13,\n",
       "  'MEAN_INCIDENCE_AZIMUTH_ANGLE_B10': 285.026550556018,\n",
       "  'SOLAR_IRRADIANCE_B5': 1425.78,\n",
       "  'MEAN_INCIDENCE_AZIMUTH_ANGLE_B11': 285.533849605951,\n",
       "  'SOLAR_IRRADIANCE_B8': 1041.28,\n",
       "  'MEAN_INCIDENCE_AZIMUTH_ANGLE_B12': 285.965297988668,\n",
       "  'SOLAR_IRRADIANCE_B7': 1175.57,\n",
       "  'SOLAR_IRRADIANCE_B2': 1959.75,\n",
       "  'SOLAR_IRRADIANCE_B1': 1874.3,\n",
       "  'SOLAR_IRRADIANCE_B4': 1512.79,\n",
       "  'GEOMETRIC_QUALITY': 'PASSED',\n",
       "  'SOLAR_IRRADIANCE_B3': 1824.93,\n",
       "  'system:asset_size': 1207710876,\n",
       "  'WATER_PERCENTAGE': 0.232855,\n",
       "  'system:index': '20201004T080759_20201004T083035_T35LPG'}}"
      ]
     },
     "execution_count": 32,
     "metadata": {},
     "output_type": "execute_result"
    }
   ],
   "source": [
    "## get metadata for one scene\n",
    "## must convert ImageCollection object to a list, then use .get().getInfo()\n",
    "scenesList = s2_pt.toList(s2_pt.size());\n",
    "scenesList.get(0).getInfo()"
   ]
  },
  {
   "cell_type": "markdown",
   "metadata": {},
   "source": [
    "## create functions for cloud masking, GCVI"
   ]
  },
  {
   "cell_type": "code",
   "execution_count": 25,
   "metadata": {},
   "outputs": [],
   "source": [
    "def cloudMask_s2(img):\n",
    "    quality = img.select(['pixel_qa'])\n",
    "    # clear = no clouds, cloud shadow\n",
    "    clear = (quality.bitwiseAnd(8).eq(0)) and (quality.bitwiseAnd(32).eq(0))  # cloud\n",
    "    return (img.updateMask(clear)\n",
    "           .copyProperties(img, ['system:index', 'system:time_start']))\n",
    "\n",
    "\n",
    "def maskS2clouds(image):\n",
    "    qa = image.select('QA60')\n",
    "\n",
    "  ## Bits 10 and 11 are clouds and cirrus, respectively.\n",
    "    cloudBitMask = 1 << 10;\n",
    "    cirrusBitMask = 1 << 11;\n",
    "\n",
    "  ## Both flags should be set to zero, indicating clear conditions.\n",
    "    mask = qa.bitwiseAnd(cloudBitMask).eq(0).And(qa.bitwiseAnd(cirrusBitMask).eq(0))\n",
    "\n",
    "  ## Return the masked and scaled data, without the QA bands.\n",
    "    return image.updateMask(mask).divide(10000).select(\"B.*\").copyProperties(image, [\"system:time_start\"])\n",
    "\n",
    "\n",
    "def addGCVI(image):\n",
    "    gcvi = image.expression('(NIR / GREEN) - 1.0', {'NIR': image.select('B8'),'GREEN': image.select('B3')}).rename('GCVI');\n",
    "    return(gcvi)    \n",
    "\n",
    "\n"
   ]
  },
  {
   "cell_type": "code",
   "execution_count": 29,
   "metadata": {},
   "outputs": [
    {
     "name": "stdout",
     "output_type": "stream",
     "text": [
      "38\n"
     ]
    }
   ],
   "source": [
    "s2_pt_masked_gcvi = s2_pt.map(maskS2clouds).map(addGCVI)\n",
    "print(s2_pt_masked_gcvi.size().getInfo())"
   ]
  },
  {
   "cell_type": "markdown",
   "metadata": {},
   "source": [
    "## extract time-series"
   ]
  },
  {
   "cell_type": "code",
   "execution_count": 48,
   "metadata": {},
   "outputs": [],
   "source": [
    "import bokeh\n",
    "import datetime\n",
    "from bokeh.layouts import gridplot\n",
    "from bokeh.plotting import figure, show, output_file"
   ]
  },
  {
   "cell_type": "code",
   "execution_count": 34,
   "metadata": {},
   "outputs": [
    {
     "name": "stdout",
     "output_type": "stream",
     "text": [
      "[-9999, -9999, -9999, -9999, -9999, -9999, -9999, -9999, -9999, -9999, -9999, -9999, -9999, -9999, -9999, -9999, -9999, -9999, -9999, -9999, -9999, -9999, -9999, -9999, -9999, -9999, -9999, -9999, -9999, -9999, -9999, -9999, -9999, -9999, -9999, -9999, -9999, -9999]\n"
     ]
    }
   ],
   "source": [
    "## put size of image collection in a Python variable (client-side)\n",
    "length_ic = s2_pt_masked_gcvi.size().getInfo()\n",
    "\n",
    "## set up Python arrays for date and for GCVI value\n",
    "date_array = [-9999] * length_ic\n",
    "gcvi_array = [-9999] * length_ic\n",
    "print(gcvi_array)\n",
    "\n"
   ]
  },
  {
   "cell_type": "code",
   "execution_count": 41,
   "metadata": {},
   "outputs": [
    {
     "name": "stdout",
     "output_type": "stream",
     "text": [
      "0\n",
      "1\n",
      "2\n",
      "3\n",
      "4\n",
      "5\n",
      "6\n",
      "7\n",
      "8\n",
      "9\n",
      "10\n",
      "11\n",
      "12\n",
      "13\n",
      "14\n",
      "15\n",
      "16\n",
      "17\n",
      "18\n",
      "19\n",
      "20\n",
      "21\n",
      "22\n",
      "23\n",
      "24\n",
      "25\n",
      "26\n",
      "27\n",
      "28\n",
      "29\n",
      "30\n",
      "31\n",
      "32\n",
      "33\n",
      "34\n",
      "35\n",
      "36\n",
      "37\n",
      "[0.9374149659863946, None, 1.1574585635359114, 0.9838383838383837, 1.0609037328094302, 0.965909090909091, 1.0812720848056538, 1.0772200772200775, None, 0.903225806451613, 1.194331983805668, 0.7035175879396984, None, None, None, None, None, None, None, 1.2335329341317367, None, None, None, 1.9090909090909092, None, 3.5216426193118755, 1.1217948717948718, None, None, None, None, None, None, 4.529605263157895, None, 0.4305084745762713, 4.674626865671641, 3.868462757527733]\n",
      "['20201004', '20201009', '20201014', '20201019', '20201024', '20201029', '20201103', '20201108', '20201113', '20201118', '20201123', '20201128', '20201203', '20201208', '20201213', '20201218', '20201223', '20201228', '20210102', '20210107', '20210112', '20210117', '20210122', '20210127', '20210201', '20210206', '20210211', '20210216', '20210221', '20210226', '20210303', '20210308', '20210313', '20210318', '20210323', '20210328', '20210402', '20210407']\n"
     ]
    }
   ],
   "source": [
    "## iterate through image collection, extracting date and GCVI\n",
    "\n",
    "## function for selecting singe image from image collection\n",
    "def getImage(ee_ic, index):\n",
    "    imageCollectionList = ee_ic.toList(ee_ic.size())\n",
    "    image = imageCollectionList.get(index)\n",
    "    return(ee.Image(image))\n",
    "\n",
    "\n",
    "\n",
    "\n",
    "for i in range(length_ic):\n",
    "    print(i)\n",
    "    current_image = getImage(s2_pt_masked_gcvi, i)\n",
    "    gcvi_array[i] = current_image.reduceRegion(reducer = ee.Reducer.mean(),\n",
    "                                  geometry = ee_pt,\n",
    "                                  scale = 10).get(\"GCVI\").getInfo()\n",
    "    date_array[i] = current_image.getInfo()['properties']['system:index'][0:8]\n",
    "    \n",
    "print(gcvi_array)\n",
    "print(date_array)"
   ]
  },
  {
   "cell_type": "markdown",
   "metadata": {},
   "source": [
    "## Wrap this all in functions"
   ]
  },
  {
   "cell_type": "code",
   "execution_count": 44,
   "metadata": {},
   "outputs": [
    {
     "name": "stdout",
     "output_type": "stream",
     "text": [
      "0\n",
      "1\n",
      "2\n",
      "3\n",
      "4\n",
      "5\n",
      "6\n",
      "7\n",
      "8\n",
      "9\n",
      "10\n",
      "11\n",
      "12\n",
      "13\n",
      "14\n",
      "15\n",
      "16\n",
      "17\n",
      "18\n",
      "19\n",
      "20\n",
      "21\n",
      "22\n",
      "23\n",
      "24\n",
      "25\n",
      "26\n",
      "27\n",
      "28\n",
      "29\n",
      "30\n",
      "31\n",
      "32\n",
      "33\n",
      "34\n",
      "35\n",
      "36\n",
      "37\n"
     ]
    }
   ],
   "source": [
    "def extractBandValue(ee_image, band_name, lon, lat):\n",
    "    ee_point = ee.Geometry.Point([lon, lat])\n",
    "    value = ee_image.reduceRegion(reducer = ee.Reducer.first(),\n",
    "                                  geometry = ee_point,\n",
    "                                  scale = 10).get(band_name).getInfo() # The scale determines the pyramid level from which to pull the input\n",
    "    return(value)\n",
    "\n",
    "\n",
    "def extractDate(ee_image):\n",
    "    image_date_str = ee_image.getInfo()['properties']['system:index'][0:8]\n",
    "    image_date = datetime.datetime(int(image_date_str[0:4]), int(image_date_str[4:6]), int(image_date_str[6:8]))\n",
    "    return(image_date)\n",
    "\n",
    "\n",
    "def extractTimeSeries(ee_ic, band_name, lon, lat):\n",
    "    length_ic = ee_ic.size().getInfo()\n",
    "    band_array = [-9999] * length_ic\n",
    "    date_array = [-9999] * length_ic\n",
    "    for i in range(length_ic):\n",
    "        print(i)\n",
    "        current_image = getImage(ee_ic, i)\n",
    "        band_array[i] = extractBandValue(current_image, band_name, lon, lat)\n",
    "        date_array[i] = extractDate(current_image)\n",
    "    data_dict ={band_name: band_array, 'date': date_array}\n",
    "    return(data_dict)\n",
    "\n",
    "\n",
    "GCVI_ts = extractTimeSeries(s2_pt_masked_gcvi, 'GCVI', pt_lon, pt_lat)"
   ]
  },
  {
   "cell_type": "code",
   "execution_count": 52,
   "metadata": {},
   "outputs": [
    {
     "name": "stdout",
     "output_type": "stream",
     "text": [
      "{'GCVI': [0.9374149659863946, None, 1.1574585635359114, 0.9838383838383837, 1.0609037328094302, 0.965909090909091, 1.0812720848056538, 1.0772200772200775, None, 0.903225806451613, 1.194331983805668, 0.7035175879396984, None, None, None, None, None, None, None, 1.2335329341317367, None, None, None, 1.9090909090909092, None, 3.5216426193118755, 1.1217948717948718, None, None, None, None, None, None, 4.529605263157895, None, 0.4305084745762713, 4.674626865671641, 3.868462757527733], 'date': [datetime.datetime(2020, 10, 4, 0, 0), datetime.datetime(2020, 10, 9, 0, 0), datetime.datetime(2020, 10, 14, 0, 0), datetime.datetime(2020, 10, 19, 0, 0), datetime.datetime(2020, 10, 24, 0, 0), datetime.datetime(2020, 10, 29, 0, 0), datetime.datetime(2020, 11, 3, 0, 0), datetime.datetime(2020, 11, 8, 0, 0), datetime.datetime(2020, 11, 13, 0, 0), datetime.datetime(2020, 11, 18, 0, 0), datetime.datetime(2020, 11, 23, 0, 0), datetime.datetime(2020, 11, 28, 0, 0), datetime.datetime(2020, 12, 3, 0, 0), datetime.datetime(2020, 12, 8, 0, 0), datetime.datetime(2020, 12, 13, 0, 0), datetime.datetime(2020, 12, 18, 0, 0), datetime.datetime(2020, 12, 23, 0, 0), datetime.datetime(2020, 12, 28, 0, 0), datetime.datetime(2021, 1, 2, 0, 0), datetime.datetime(2021, 1, 7, 0, 0), datetime.datetime(2021, 1, 12, 0, 0), datetime.datetime(2021, 1, 17, 0, 0), datetime.datetime(2021, 1, 22, 0, 0), datetime.datetime(2021, 1, 27, 0, 0), datetime.datetime(2021, 2, 1, 0, 0), datetime.datetime(2021, 2, 6, 0, 0), datetime.datetime(2021, 2, 11, 0, 0), datetime.datetime(2021, 2, 16, 0, 0), datetime.datetime(2021, 2, 21, 0, 0), datetime.datetime(2021, 2, 26, 0, 0), datetime.datetime(2021, 3, 3, 0, 0), datetime.datetime(2021, 3, 8, 0, 0), datetime.datetime(2021, 3, 13, 0, 0), datetime.datetime(2021, 3, 18, 0, 0), datetime.datetime(2021, 3, 23, 0, 0), datetime.datetime(2021, 3, 28, 0, 0), datetime.datetime(2021, 4, 2, 0, 0), datetime.datetime(2021, 4, 7, 0, 0)]}\n"
     ]
    }
   ],
   "source": [
    "print(GCVI_ts)"
   ]
  },
  {
   "cell_type": "markdown",
   "metadata": {},
   "source": [
    "## convert GCVI time series to Pandas df"
   ]
  },
  {
   "cell_type": "code",
   "execution_count": 62,
   "metadata": {},
   "outputs": [
    {
     "name": "stdout",
     "output_type": "stream",
     "text": [
      "        GCVI       date\n",
      "0   0.937415 2020-10-04\n",
      "2   1.157459 2020-10-14\n",
      "3   0.983838 2020-10-19\n",
      "4   1.060904 2020-10-24\n",
      "5   0.965909 2020-10-29\n",
      "6   1.081272 2020-11-03\n",
      "7   1.077220 2020-11-08\n",
      "9   0.903226 2020-11-18\n",
      "10  1.194332 2020-11-23\n",
      "11  0.703518 2020-11-28\n",
      "19  1.233533 2021-01-07\n",
      "23  1.909091 2021-01-27\n",
      "25  3.521643 2021-02-06\n",
      "26  1.121795 2021-02-11\n",
      "33  4.529605 2021-03-18\n",
      "35  0.430508 2021-03-28\n",
      "36  4.674627 2021-04-02\n",
      "37  3.868463 2021-04-07\n"
     ]
    }
   ],
   "source": [
    "GCVI_df = pd.DataFrame(GCVI_ts)\n",
    "##print(GCVI_df)\n",
    "\n",
    "## filter data frame, remove NaN rows\n",
    "GCVI_df_filt = GCVI_df.dropna()\n",
    "print(GCVI_df_filt)"
   ]
  },
  {
   "cell_type": "markdown",
   "metadata": {},
   "source": [
    "## plots"
   ]
  },
  {
   "cell_type": "code",
   "execution_count": 67,
   "metadata": {},
   "outputs": [
    {
     "data": {
      "text/plain": [
       "<AxesSubplot:xlabel='date'>"
      ]
     },
     "execution_count": 67,
     "metadata": {},
     "output_type": "execute_result"
    },
    {
     "data": {
      "image/png": "[encoded data removed]",
      "text/plain": [
       "<Figure size 432x288 with 1 Axes>"
      ]
     },
     "metadata": {
      "needs_background": "light"
     },
     "output_type": "display_data"
    }
   ],
   "source": [
    "GCVI_df_filt.plot(x = 'date', y = 'GCVI')"
   ]
  },
  {
   "cell_type": "code",
   "execution_count": 66,
   "metadata": {},
   "outputs": [
    {
     "data": {
      "text/plain": [
       "<AxesSubplot:xlabel='date', ylabel='GCVI'>"
      ]
     },
     "execution_count": 66,
     "metadata": {},
     "output_type": "execute_result"
    },
    {
     "data": {
      "image/png": "[encoded data removed]",
      "text/plain": [
       "<Figure size 432x288 with 1 Axes>"
      ]
     },
     "metadata": {
      "needs_background": "light"
     },
     "output_type": "display_data"
    }
   ],
   "source": [
    "## show both a scatter plot and line plot\n",
    "\n",
    "ax = GCVI_df_filt.plot.scatter(x = \"date\", y = \"GCVI\", style='b')\n",
    "GCVI_df_filt.plot.line(x = \"date\", y = \"GCVI\", ax=ax, style='b')"
   ]
  },
  {
   "cell_type": "markdown",
   "metadata": {},
   "source": [
    "## export data"
   ]
  },
  {
   "cell_type": "code",
   "execution_count": 70,
   "metadata": {},
   "outputs": [
    {
     "name": "stdout",
     "output_type": "stream",
     "text": [
      "/Users/michaelcecil/Documents/GitHub/geospatial\n"
     ]
    }
   ],
   "source": [
    "print(os.getcwd())\n",
    "GCVI_df_filt.to_csv('GCVI_df_filt.csv', header=True) "
   ]
  },
  {
   "cell_type": "code",
   "execution_count": null,
   "metadata": {},
   "outputs": [],
   "source": []
  }
 ],
 "metadata": {
  "kernelspec": {
   "display_name": "Python 3",
   "language": "python",
   "name": "python3"
  },
  "language_info": {
   "codemirror_mode": {
    "name": "ipython",
    "version": 3
   },
   "file_extension": ".py",
   "mimetype": "text/x-python",
   "name": "python",
   "nbconvert_exporter": "python",
   "pygments_lexer": "ipython3",
   "version": "3.8.5"
  }
 },
 "nbformat": 4,
 "nbformat_minor": 4
}
