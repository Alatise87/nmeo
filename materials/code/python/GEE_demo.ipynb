{
 "cells": [
  {
   "cell_type": "code",
   "execution_count": 1,
   "metadata": {},
   "outputs": [],
   "source": [
    "import ee\n",
    "import pandas as pd\n",
    "import matplotlib.pyplot as plt\n",
    "import os\n",
    "#plt.style.use(['dark_background'])\n",
    "ee.Initialize()"
   ]
  },
  {
   "cell_type": "markdown",
   "metadata": {},
   "source": [
    "## create point feature"
   ]
  },
  {
   "cell_type": "markdown",
   "metadata": {},
   "source": [
    "## Goal: Plot a time-series of GCVI from Sentinel-2 at one location in Zambia"
   ]
  },
  {
   "cell_type": "code",
   "execution_count": null,
   "metadata": {},
   "outputs": [],
   "source": []
  },
  {
   "cell_type": "code",
   "execution_count": 3,
   "metadata": {},
   "outputs": [
    {
     "name": "stdout",
     "output_type": "stream",
     "text": [
      "server side\n",
      "ee.Geometry({\n",
      "  \"functionInvocationValue\": {\n",
      "    \"functionName\": \"GeometryConstructors.Point\",\n",
      "    \"arguments\": {\n",
      "      \"coordinates\": {\n",
      "        \"constantValue\": [\n",
      "          28.1511,\n",
      "          -12.6258\n",
      "        ]\n",
      "      }\n",
      "    }\n",
      "  }\n",
      "})\n",
      "<class 'ee.geometry.Geometry'>\n",
      "\n",
      "client side\n",
      "{'type': 'Point', 'coordinates': [28.1511, -12.6258]}\n",
      "<class 'dict'>\n"
     ]
    }
   ],
   "source": [
    "pt_lon = 28.1511\n",
    "pt_lat = -12.6258\n",
    "\n",
    "ee_pt = ee.Geometry.Point([pt_lon, pt_lat]);\n",
    "\n",
    "print(\"server side\")\n",
    "print(ee_pt)\n",
    "print(type(ee_pt))\n",
    "\n",
    "print(\"\")\n",
    "\n",
    "## .getInfo() brings data from server-side (ee objects) to client-side (Python objects)\n",
    "print(\"client side\")\n",
    "print(ee_pt.getInfo())\n",
    "print(type(ee_pt.getInfo()))"
   ]
  },
  {
   "cell_type": "markdown",
   "metadata": {},
   "source": [
    "## Get Sentinel-2 data"
   ]
  },
  {
   "cell_type": "code",
   "execution_count": 8,
   "metadata": {},
   "outputs": [
    {
     "name": "stdout",
     "output_type": "stream",
     "text": [
      "There are 39 scenes in the collection.\n"
     ]
    }
   ],
   "source": [
    "start_date = '2020-10-01'\n",
    "end_date = '2021-04-13'\n",
    "\n",
    "s2_pt = ee.ImageCollection(\"COPERNICUS/S2_SR\").filterBounds(ee_pt).filterDate(start_date, end_date)\n",
    "\n",
    "print(\"There are {} scenes in the collection.\".format(s2_pt.size().getInfo()))"
   ]
  },
  {
   "cell_type": "markdown",
   "metadata": {},
   "source": [
    "## Get metadata for one scene"
   ]
  },
  {
   "cell_type": "code",
   "execution_count": 13,
   "metadata": {},
   "outputs": [
    {
     "data": {
      "text/plain": [
       "[{'id': 'B1',\n",
       "  'data_type': {'type': 'PixelType',\n",
       "   'precision': 'int',\n",
       "   'min': 0,\n",
       "   'max': 65535},\n",
       "  'dimensions': [1830, 1830],\n",
       "  'crs': 'EPSG:32735',\n",
       "  'crs_transform': [60, 0, 600000, 0, -60, 8700040]},\n",
       " {'id': 'B2',\n",
       "  'data_type': {'type': 'PixelType',\n",
       "   'precision': 'int',\n",
       "   'min': 0,\n",
       "   'max': 65535},\n",
       "  'dimensions': [10980, 10980],\n",
       "  'crs': 'EPSG:32735',\n",
       "  'crs_transform': [10, 0, 600000, 0, -10, 8700040]},\n",
       " {'id': 'B3',\n",
       "  'data_type': {'type': 'PixelType',\n",
       "   'precision': 'int',\n",
       "   'min': 0,\n",
       "   'max': 65535},\n",
       "  'dimensions': [10980, 10980],\n",
       "  'crs': 'EPSG:32735',\n",
       "  'crs_transform': [10, 0, 600000, 0, -10, 8700040]},\n",
       " {'id': 'B4',\n",
       "  'data_type': {'type': 'PixelType',\n",
       "   'precision': 'int',\n",
       "   'min': 0,\n",
       "   'max': 65535},\n",
       "  'dimensions': [10980, 10980],\n",
       "  'crs': 'EPSG:32735',\n",
       "  'crs_transform': [10, 0, 600000, 0, -10, 8700040]},\n",
       " {'id': 'B5',\n",
       "  'data_type': {'type': 'PixelType',\n",
       "   'precision': 'int',\n",
       "   'min': 0,\n",
       "   'max': 65535},\n",
       "  'dimensions': [5490, 5490],\n",
       "  'crs': 'EPSG:32735',\n",
       "  'crs_transform': [20, 0, 600000, 0, -20, 8700040]},\n",
       " {'id': 'B6',\n",
       "  'data_type': {'type': 'PixelType',\n",
       "   'precision': 'int',\n",
       "   'min': 0,\n",
       "   'max': 65535},\n",
       "  'dimensions': [5490, 5490],\n",
       "  'crs': 'EPSG:32735',\n",
       "  'crs_transform': [20, 0, 600000, 0, -20, 8700040]},\n",
       " {'id': 'B7',\n",
       "  'data_type': {'type': 'PixelType',\n",
       "   'precision': 'int',\n",
       "   'min': 0,\n",
       "   'max': 65535},\n",
       "  'dimensions': [5490, 5490],\n",
       "  'crs': 'EPSG:32735',\n",
       "  'crs_transform': [20, 0, 600000, 0, -20, 8700040]},\n",
       " {'id': 'B8',\n",
       "  'data_type': {'type': 'PixelType',\n",
       "   'precision': 'int',\n",
       "   'min': 0,\n",
       "   'max': 65535},\n",
       "  'dimensions': [10980, 10980],\n",
       "  'crs': 'EPSG:32735',\n",
       "  'crs_transform': [10, 0, 600000, 0, -10, 8700040]},\n",
       " {'id': 'B8A',\n",
       "  'data_type': {'type': 'PixelType',\n",
       "   'precision': 'int',\n",
       "   'min': 0,\n",
       "   'max': 65535},\n",
       "  'dimensions': [5490, 5490],\n",
       "  'crs': 'EPSG:32735',\n",
       "  'crs_transform': [20, 0, 600000, 0, -20, 8700040]},\n",
       " {'id': 'B9',\n",
       "  'data_type': {'type': 'PixelType',\n",
       "   'precision': 'int',\n",
       "   'min': 0,\n",
       "   'max': 65535},\n",
       "  'dimensions': [1830, 1830],\n",
       "  'crs': 'EPSG:32735',\n",
       "  'crs_transform': [60, 0, 600000, 0, -60, 8700040]},\n",
       " {'id': 'B11',\n",
       "  'data_type': {'type': 'PixelType',\n",
       "   'precision': 'int',\n",
       "   'min': 0,\n",
       "   'max': 65535},\n",
       "  'dimensions': [5490, 5490],\n",
       "  'crs': 'EPSG:32735',\n",
       "  'crs_transform': [20, 0, 600000, 0, -20, 8700040]},\n",
       " {'id': 'B12',\n",
       "  'data_type': {'type': 'PixelType',\n",
       "   'precision': 'int',\n",
       "   'min': 0,\n",
       "   'max': 65535},\n",
       "  'dimensions': [5490, 5490],\n",
       "  'crs': 'EPSG:32735',\n",
       "  'crs_transform': [20, 0, 600000, 0, -20, 8700040]},\n",
       " {'id': 'AOT',\n",
       "  'data_type': {'type': 'PixelType',\n",
       "   'precision': 'int',\n",
       "   'min': 0,\n",
       "   'max': 65535},\n",
       "  'dimensions': [10980, 10980],\n",
       "  'crs': 'EPSG:32735',\n",
       "  'crs_transform': [10, 0, 600000, 0, -10, 8700040]},\n",
       " {'id': 'WVP',\n",
       "  'data_type': {'type': 'PixelType',\n",
       "   'precision': 'int',\n",
       "   'min': 0,\n",
       "   'max': 65535},\n",
       "  'dimensions': [10980, 10980],\n",
       "  'crs': 'EPSG:32735',\n",
       "  'crs_transform': [10, 0, 600000, 0, -10, 8700040]},\n",
       " {'id': 'SCL',\n",
       "  'data_type': {'type': 'PixelType', 'precision': 'int', 'min': 0, 'max': 255},\n",
       "  'dimensions': [5490, 5490],\n",
       "  'crs': 'EPSG:32735',\n",
       "  'crs_transform': [20, 0, 600000, 0, -20, 8700040]},\n",
       " {'id': 'TCI_R',\n",
       "  'data_type': {'type': 'PixelType', 'precision': 'int', 'min': 0, 'max': 255},\n",
       "  'dimensions': [10980, 10980],\n",
       "  'crs': 'EPSG:32735',\n",
       "  'crs_transform': [10, 0, 600000, 0, -10, 8700040]},\n",
       " {'id': 'TCI_G',\n",
       "  'data_type': {'type': 'PixelType', 'precision': 'int', 'min': 0, 'max': 255},\n",
       "  'dimensions': [10980, 10980],\n",
       "  'crs': 'EPSG:32735',\n",
       "  'crs_transform': [10, 0, 600000, 0, -10, 8700040]},\n",
       " {'id': 'TCI_B',\n",
       "  'data_type': {'type': 'PixelType', 'precision': 'int', 'min': 0, 'max': 255},\n",
       "  'dimensions': [10980, 10980],\n",
       "  'crs': 'EPSG:32735',\n",
       "  'crs_transform': [10, 0, 600000, 0, -10, 8700040]},\n",
       " {'id': 'MSK_CLDPRB',\n",
       "  'data_type': {'type': 'PixelType', 'precision': 'int', 'min': 0, 'max': 255},\n",
       "  'dimensions': [5490, 5490],\n",
       "  'crs': 'EPSG:32735',\n",
       "  'crs_transform': [20, 0, 600000, 0, -20, 8700040]},\n",
       " {'id': 'MSK_SNWPRB',\n",
       "  'data_type': {'type': 'PixelType', 'precision': 'int', 'min': 0, 'max': 255},\n",
       "  'dimensions': [5490, 5490],\n",
       "  'crs': 'EPSG:32735',\n",
       "  'crs_transform': [20, 0, 600000, 0, -20, 8700040]},\n",
       " {'id': 'QA10',\n",
       "  'data_type': {'type': 'PixelType',\n",
       "   'precision': 'int',\n",
       "   'min': 0,\n",
       "   'max': 65535},\n",
       "  'dimensions': [10980, 10980],\n",
       "  'crs': 'EPSG:32735',\n",
       "  'crs_transform': [10, 0, 600000, 0, -10, 8700040]},\n",
       " {'id': 'QA20',\n",
       "  'data_type': {'type': 'PixelType',\n",
       "   'precision': 'int',\n",
       "   'min': 0,\n",
       "   'max': 4294967295},\n",
       "  'dimensions': [5490, 5490],\n",
       "  'crs': 'EPSG:32735',\n",
       "  'crs_transform': [20, 0, 600000, 0, -20, 8700040]},\n",
       " {'id': 'QA60',\n",
       "  'data_type': {'type': 'PixelType',\n",
       "   'precision': 'int',\n",
       "   'min': 0,\n",
       "   'max': 65535},\n",
       "  'dimensions': [1830, 1830],\n",
       "  'crs': 'EPSG:32735',\n",
       "  'crs_transform': [60, 0, 600000, 0, -60, 8700040]}]"
      ]
     },
     "execution_count": 13,
     "metadata": {},
     "output_type": "execute_result"
    }
   ],
   "source": [
    "## get metadata for one scene\n",
    "## must convert ImageCollection object to a list, then use .get().getInfo()\n",
    "scenesList = s2_pt.toList(s2_pt.size());\n",
    "sceneInfo = scenesList.get(38).getInfo()\n",
    "\n",
    "type(sceneInfo)\n",
    "sceneInfo.keys()\n",
    "\n",
    "sceneInfo['bands']"
   ]
  },
  {
   "cell_type": "markdown",
   "metadata": {},
   "source": [
    "## create functions for cloud masking, GCVI"
   ]
  },
  {
   "cell_type": "code",
   "execution_count": 16,
   "metadata": {},
   "outputs": [],
   "source": [
    "# def cloudMask_s2(img):\n",
    "#     quality = img.select(['pixel_qa'])\n",
    "#     # clear = no clouds, cloud shadow\n",
    "#     clear = (quality.bitwiseAnd(8).eq(0)) and (quality.bitwiseAnd(32).eq(0))  # cloud\n",
    "#     return (img.updateMask(clear)\n",
    "#            .copyProperties(img, ['system:index', 'system:time_start']))\n",
    "\n",
    "\n",
    "\n",
    "def maskS2clouds(image):\n",
    "    qa = image.select('QA60')\n",
    "\n",
    "  ## Bits 10 and 11 are clouds and cirrus, respectively.\n",
    "    cloudBitMask = 1 << 10;\n",
    "    cirrusBitMask = 1 << 11;\n",
    "\n",
    "  ## Both flags should be set to zero, indicating clear conditions.\n",
    "    mask = qa.bitwiseAnd(cloudBitMask).eq(0).And(\n",
    "             qa.bitwiseAnd(cirrusBitMask).eq(0))\n",
    "\n",
    "  ## Return the masked and scaled data, without the QA bands.\n",
    "    return (image.updateMask(mask).divide(10000).select(\"B.*\").copyProperties(image, [\"system:time_start\"]))\n",
    "\n",
    "\n",
    "\n",
    "def addGCVI(image):\n",
    "    gcvi = image.expression('(NIR / GREEN) - 1.0', {'NIR': image.select('B8'),'GREEN': image.select('B3')}).rename('GCVI');\n",
    "    return(gcvi)    \n",
    "\n",
    "\n"
   ]
  },
  {
   "cell_type": "code",
   "execution_count": 17,
   "metadata": {},
   "outputs": [
    {
     "name": "stdout",
     "output_type": "stream",
     "text": [
      "39\n"
     ]
    }
   ],
   "source": [
    "s2_pt_masked_gcvi = s2_pt.map(maskS2clouds).map(addGCVI)\n",
    "print(s2_pt_masked_gcvi.size().getInfo())"
   ]
  },
  {
   "cell_type": "markdown",
   "metadata": {},
   "source": [
    "## extract time-series"
   ]
  },
  {
   "cell_type": "code",
   "execution_count": 18,
   "metadata": {},
   "outputs": [],
   "source": [
    "import bokeh\n",
    "import datetime\n",
    "from bokeh.layouts import gridplot\n",
    "from bokeh.plotting import figure, show, output_file"
   ]
  },
  {
   "cell_type": "code",
   "execution_count": 19,
   "metadata": {},
   "outputs": [
    {
     "name": "stdout",
     "output_type": "stream",
     "text": [
      "image collection size\n",
      "39\n",
      "[-9999, -9999, -9999, -9999, -9999, -9999, -9999, -9999, -9999, -9999, -9999, -9999, -9999, -9999, -9999, -9999, -9999, -9999, -9999, -9999, -9999, -9999, -9999, -9999, -9999, -9999, -9999, -9999, -9999, -9999, -9999, -9999, -9999, -9999, -9999, -9999, -9999, -9999, -9999]\n"
     ]
    }
   ],
   "source": [
    "## put size of image collection in a Python variable (client-side)\n",
    "length_ic = s2_pt_masked_gcvi.size().getInfo()\n",
    "print('image collection size')\n",
    "print(length_ic)\n",
    "\n",
    "## set up Python arrays for date and for GCVI value\n",
    "date_array = [-9999] * length_ic\n",
    "gcvi_array = [-9999] * length_ic\n",
    "print(gcvi_array)\n",
    "\n"
   ]
  },
  {
   "cell_type": "code",
   "execution_count": 20,
   "metadata": {},
   "outputs": [
    {
     "name": "stdout",
     "output_type": "stream",
     "text": [
      "0\n",
      "1\n",
      "2\n",
      "3\n",
      "4\n",
      "5\n",
      "6\n",
      "7\n",
      "8\n",
      "9\n",
      "10\n",
      "11\n",
      "12\n",
      "13\n",
      "14\n",
      "15\n",
      "16\n",
      "17\n",
      "18\n",
      "19\n",
      "20\n",
      "21\n",
      "22\n",
      "23\n",
      "24\n",
      "25\n",
      "26\n",
      "27\n",
      "28\n",
      "29\n",
      "30\n",
      "31\n",
      "32\n",
      "33\n",
      "34\n",
      "35\n",
      "36\n",
      "37\n",
      "38\n",
      "[0.9374149659863946, None, 1.1574585635359114, 0.9838383838383837, 1.0609037328094302, 0.965909090909091, 1.0812720848056538, 1.0772200772200775, None, 0.903225806451613, 1.194331983805668, 0.7035175879396984, None, None, None, None, None, None, None, 1.2335329341317367, None, None, None, 1.9090909090909092, None, 3.5216426193118755, 1.1217948717948718, None, None, None, None, None, None, 4.529605263157895, None, 0.4305084745762713, 4.674626865671641, 3.868462757527733, 0.35137034434293746]\n",
      "['20201004', '20201009', '20201014', '20201019', '20201024', '20201029', '20201103', '20201108', '20201113', '20201118', '20201123', '20201128', '20201203', '20201208', '20201213', '20201218', '20201223', '20201228', '20210102', '20210107', '20210112', '20210117', '20210122', '20210127', '20210201', '20210206', '20210211', '20210216', '20210221', '20210226', '20210303', '20210308', '20210313', '20210318', '20210323', '20210328', '20210402', '20210407', '20210412']\n"
     ]
    }
   ],
   "source": [
    "## iterate through image collection, extracting date and GCVI\n",
    "\n",
    "## function for selecting singe image from image collection\n",
    "def getImage(ee_ic, index):\n",
    "    imageCollectionList = ee_ic.toList(ee_ic.size())\n",
    "    image = imageCollectionList.get(index)\n",
    "    return(ee.Image(image))\n",
    "\n",
    "\n",
    "\n",
    "\n",
    "for i in range(length_ic):\n",
    "    print(i)\n",
    "    current_image = getImage(s2_pt_masked_gcvi, i)\n",
    "    gcvi_array[i] = current_image.reduceRegion(reducer = ee.Reducer.mean(),\n",
    "                                  geometry = ee_pt,\n",
    "                                  scale = 10).get(\"GCVI\").getInfo()\n",
    "    date_array[i] = current_image.getInfo()['properties']['system:index'][0:8]\n",
    "    \n",
    "print(gcvi_array)\n",
    "print(date_array)"
   ]
  },
  {
   "cell_type": "markdown",
   "metadata": {},
   "source": [
    "## Wrap this all in functions"
   ]
  },
  {
   "cell_type": "code",
   "execution_count": 21,
   "metadata": {},
   "outputs": [
    {
     "name": "stdout",
     "output_type": "stream",
     "text": [
      "0\n",
      "1\n",
      "2\n",
      "3\n",
      "4\n",
      "5\n",
      "6\n",
      "7\n",
      "8\n",
      "9\n",
      "10\n",
      "11\n",
      "12\n",
      "13\n",
      "14\n",
      "15\n",
      "16\n",
      "17\n",
      "18\n",
      "19\n",
      "20\n",
      "21\n",
      "22\n",
      "23\n",
      "24\n",
      "25\n",
      "26\n",
      "27\n",
      "28\n",
      "29\n",
      "30\n",
      "31\n",
      "32\n",
      "33\n",
      "34\n",
      "35\n",
      "36\n",
      "37\n",
      "38\n"
     ]
    }
   ],
   "source": [
    "def extractBandValue(ee_image, band_name, lon, lat):\n",
    "    ee_point = ee.Geometry.Point([lon, lat])\n",
    "    value = ee_image.reduceRegion(reducer = ee.Reducer.first(),\n",
    "                                  geometry = ee_point,\n",
    "                                  scale = 10).get(band_name).getInfo() # The scale determines the pyramid level from which to pull the input\n",
    "    return(value)\n",
    "\n",
    "\n",
    "def extractDate(ee_image):\n",
    "    image_date_str = ee_image.getInfo()['properties']['system:index'][0:8]\n",
    "    image_date = datetime.datetime(int(image_date_str[0:4]), int(image_date_str[4:6]), int(image_date_str[6:8]))\n",
    "    return(image_date)\n",
    "\n",
    "\n",
    "def extractTimeSeries(ee_ic, band_name, lon, lat):\n",
    "    length_ic = ee_ic.size().getInfo()\n",
    "    band_array = [-9999] * length_ic\n",
    "    date_array = [-9999] * length_ic\n",
    "    for i in range(length_ic):\n",
    "        print(i)\n",
    "        current_image = getImage(ee_ic, i)\n",
    "        band_array[i] = extractBandValue(current_image, band_name, lon, lat)\n",
    "        date_array[i] = extractDate(current_image)\n",
    "    data_dict ={band_name: band_array, 'date': date_array}\n",
    "    return(data_dict)\n",
    "\n",
    "\n",
    "GCVI_ts = extractTimeSeries(s2_pt_masked_gcvi, 'GCVI', pt_lon, pt_lat)"
   ]
  },
  {
   "cell_type": "code",
   "execution_count": 22,
   "metadata": {},
   "outputs": [
    {
     "name": "stdout",
     "output_type": "stream",
     "text": [
      "{'GCVI': [0.9374149659863946, None, 1.1574585635359114, 0.9838383838383837, 1.0609037328094302, 0.965909090909091, 1.0812720848056538, 1.0772200772200775, None, 0.903225806451613, 1.194331983805668, 0.7035175879396984, None, None, None, None, None, None, None, 1.2335329341317367, None, None, None, 1.9090909090909092, None, 3.5216426193118755, 1.1217948717948718, None, None, None, None, None, None, 4.529605263157895, None, 0.4305084745762713, 4.674626865671641, 3.868462757527733, 0.35137034434293746], 'date': [datetime.datetime(2020, 10, 4, 0, 0), datetime.datetime(2020, 10, 9, 0, 0), datetime.datetime(2020, 10, 14, 0, 0), datetime.datetime(2020, 10, 19, 0, 0), datetime.datetime(2020, 10, 24, 0, 0), datetime.datetime(2020, 10, 29, 0, 0), datetime.datetime(2020, 11, 3, 0, 0), datetime.datetime(2020, 11, 8, 0, 0), datetime.datetime(2020, 11, 13, 0, 0), datetime.datetime(2020, 11, 18, 0, 0), datetime.datetime(2020, 11, 23, 0, 0), datetime.datetime(2020, 11, 28, 0, 0), datetime.datetime(2020, 12, 3, 0, 0), datetime.datetime(2020, 12, 8, 0, 0), datetime.datetime(2020, 12, 13, 0, 0), datetime.datetime(2020, 12, 18, 0, 0), datetime.datetime(2020, 12, 23, 0, 0), datetime.datetime(2020, 12, 28, 0, 0), datetime.datetime(2021, 1, 2, 0, 0), datetime.datetime(2021, 1, 7, 0, 0), datetime.datetime(2021, 1, 12, 0, 0), datetime.datetime(2021, 1, 17, 0, 0), datetime.datetime(2021, 1, 22, 0, 0), datetime.datetime(2021, 1, 27, 0, 0), datetime.datetime(2021, 2, 1, 0, 0), datetime.datetime(2021, 2, 6, 0, 0), datetime.datetime(2021, 2, 11, 0, 0), datetime.datetime(2021, 2, 16, 0, 0), datetime.datetime(2021, 2, 21, 0, 0), datetime.datetime(2021, 2, 26, 0, 0), datetime.datetime(2021, 3, 3, 0, 0), datetime.datetime(2021, 3, 8, 0, 0), datetime.datetime(2021, 3, 13, 0, 0), datetime.datetime(2021, 3, 18, 0, 0), datetime.datetime(2021, 3, 23, 0, 0), datetime.datetime(2021, 3, 28, 0, 0), datetime.datetime(2021, 4, 2, 0, 0), datetime.datetime(2021, 4, 7, 0, 0), datetime.datetime(2021, 4, 12, 0, 0)]}\n"
     ]
    }
   ],
   "source": [
    "print(GCVI_ts)"
   ]
  },
  {
   "cell_type": "markdown",
   "metadata": {},
   "source": [
    "## convert GCVI time series to Pandas df"
   ]
  },
  {
   "cell_type": "code",
   "execution_count": 25,
   "metadata": {},
   "outputs": [
    {
     "name": "stdout",
     "output_type": "stream",
     "text": [
      "        GCVI       date\n",
      "0   0.937415 2020-10-04\n",
      "2   1.157459 2020-10-14\n",
      "3   0.983838 2020-10-19\n",
      "4   1.060904 2020-10-24\n",
      "5   0.965909 2020-10-29\n",
      "6   1.081272 2020-11-03\n",
      "7   1.077220 2020-11-08\n",
      "9   0.903226 2020-11-18\n",
      "10  1.194332 2020-11-23\n",
      "11  0.703518 2020-11-28\n",
      "19  1.233533 2021-01-07\n",
      "23  1.909091 2021-01-27\n",
      "25  3.521643 2021-02-06\n",
      "26  1.121795 2021-02-11\n",
      "33  4.529605 2021-03-18\n",
      "35  0.430508 2021-03-28\n",
      "36  4.674627 2021-04-02\n",
      "37  3.868463 2021-04-07\n",
      "38  0.351370 2021-04-12\n"
     ]
    }
   ],
   "source": [
    "GCVI_df = pd.DataFrame(GCVI_ts)\n",
    "#print(GCVI_df)\n",
    "\n",
    "## filter data frame, remove NaN rows\n",
    "GCVI_df_filt = GCVI_df.dropna()\n",
    "print(GCVI_df_filt)"
   ]
  },
  {
   "cell_type": "markdown",
   "metadata": {},
   "source": [
    "## plots"
   ]
  },
  {
   "cell_type": "code",
   "execution_count": 26,
   "metadata": {},
   "outputs": [
    {
     "data": {
      "text/plain": [
       "<AxesSubplot:xlabel='date'>"
      ]
     },
     "execution_count": 26,
     "metadata": {},
     "output_type": "execute_result"
    },
    {
     "data": {
      "image/png": "[encoded data removed]",
      "text/plain": [
       "<Figure size 432x288 with 1 Axes>"
      ]
     },
     "metadata": {
      "needs_background": "light"
     },
     "output_type": "display_data"
    }
   ],
   "source": [
    "GCVI_df_filt.plot(x = 'date', y = 'GCVI')"
   ]
  },
  {
   "cell_type": "code",
   "execution_count": 27,
   "metadata": {},
   "outputs": [
    {
     "data": {
      "text/plain": [
       "<AxesSubplot:xlabel='date', ylabel='GCVI'>"
      ]
     },
     "execution_count": 27,
     "metadata": {},
     "output_type": "execute_result"
    },
    {
     "data": {
      "image/png": "[encoded data removed]",
      "text/plain": [
       "<Figure size 432x288 with 1 Axes>"
      ]
     },
     "metadata": {
      "needs_background": "light"
     },
     "output_type": "display_data"
    }
   ],
   "source": [
    "## show both a scatter plot and line plot\n",
    "\n",
    "ax = GCVI_df_filt.plot.scatter(x = \"date\", y = \"GCVI\", style='b')\n",
    "GCVI_df_filt.plot.line(x = \"date\", y = \"GCVI\", ax=ax, style='b')"
   ]
  },
  {
   "cell_type": "markdown",
   "metadata": {},
   "source": [
    "## export data"
   ]
  },
  {
   "cell_type": "code",
   "execution_count": 28,
   "metadata": {},
   "outputs": [
    {
     "name": "stdout",
     "output_type": "stream",
     "text": [
      "/Users/michaelcecil/Rprojects/geog287387_s/materials/code/python\n"
     ]
    }
   ],
   "source": [
    "print(os.getcwd())\n",
    "GCVI_df_filt.to_csv('GCVI_df_filt.csv', header=True) "
   ]
  },
  {
   "cell_type": "code",
   "execution_count": null,
   "metadata": {},
   "outputs": [],
   "source": []
  }
 ],
 "metadata": {
  "kernelspec": {
   "display_name": "Python 3",
   "language": "python",
   "name": "python3"
  },
  "language_info": {
   "codemirror_mode": {
    "name": "ipython",
    "version": 3
   },
   "file_extension": ".py",
   "mimetype": "text/x-python",
   "name": "python",
   "nbconvert_exporter": "python",
   "pygments_lexer": "ipython3",
   "version": "3.8.5"
  }
 },
 "nbformat": 4,
 "nbformat_minor": 4
}
