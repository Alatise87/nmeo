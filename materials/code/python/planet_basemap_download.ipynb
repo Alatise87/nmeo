{
 "cells": [
  {
   "cell_type": "code",
   "execution_count": 1,
   "metadata": {},
   "outputs": [],
   "source": [
    "import requests\n",
    "import config\n",
    "import json\n",
    "import os\n",
    "import urllib.request\n",
    "import planet"
   ]
  },
  {
   "cell_type": "code",
   "execution_count": 2,
   "metadata": {},
   "outputs": [],
   "source": [
    "## variables to change\n",
    "PLANET_API_KEY = 'ba80d8f478df4ec6ba4247ca3c9c8112' # <= insert API key here \n",
    "mosaic_date = \"2020-09\" ## year and month for basemap\n",
    "DIR = '/Users/michaelcecil/Rprojects/geog287387_s/materials/data/assignment02' ## (change to your output dir)\n",
    "# set your own bounding box\n",
    "# use format below (lowerx,lowery,upperx,uppery)\n",
    "string_bbox = \"-71.78366,2.27885,-71.78366,2.27885\" "
   ]
  },
  {
   "cell_type": "code",
   "execution_count": 3,
   "metadata": {},
   "outputs": [],
   "source": [
    "#setup Planet base URL\n",
    "API_URL = \"https://api.planet.com/basemaps/v1/mosaics\"\n",
    "#setup session\n",
    "session = requests.Session()\n",
    "#authenticate\n",
    "session.auth = (PLANET_API_KEY, \"\") "
   ]
  },
  {
   "cell_type": "code",
   "execution_count": 4,
   "metadata": {},
   "outputs": [
    {
     "name": "stdout",
     "output_type": "stream",
     "text": [
      "status code: 200\n",
      "mosaic metadata: {\n",
      "  \"_links\": {\n",
      "    \"_self\": \"https://api.planet.com/basemaps/v1/mosaics?api_key=ba80d8f478df4ec6ba4247ca3c9c8112\"\n",
      "  },\n",
      "  \"mosaics\": [\n",
      "    {\n",
      "      \"_links\": {\n",
      "        \"_self\": \"https://api.planet.com/basemaps/v1/mosaics/755805d4-8eba-4a61-a6ab-7514c1bde810?api_key=ba80d8f478df4ec6ba4247ca3c9c8112\",\n",
      "        \"quads\": \"https://api.planet.com/basemaps/v1/mosaics/755805d4-8eba-4a61-a6ab-7514c1bde810/quads?api_key=ba80d8f478df4ec6ba4247ca3c9c8112&bbox={lx},{ly},{ux},{uy}\",\n",
      "        \"tiles\": \"https://tiles.planet.com/basemaps/v1/planet-tiles/planet_medres_normalized_analytic_2020-09_mosaic/gmap/{z}/{x}/{y}.png?api_key=ba80d8f478df4ec6ba4247ca3c9c8112\"\n",
      "      },\n",
      "      \"bbox\": [\n",
      "        -179.999999974944,\n",
      "        -30.145127179527,\n",
      "        179.999999975056,\n",
      "        30.145127179625\n",
      "      ],\n",
      "      \"coordinate_system\": \"EPSG:3857\",\n",
      "      \"datatype\": \"uint16\",\n",
      "      \"first_acquired\": \"2020-09-01T00:00:00.000Z\",\n",
      "      \"grid\": {\n",
      "        \"quad_size\": 4096,\n",
      "        \"resolution\": 4.777314267823516\n",
      "      },\n",
      "      \"id\": \"755805d4-8eba-4a61-a6ab-7514c1bde810\",\n",
      "      \"interval\": \"1 mon\",\n",
      "      \"item_types\": [\n",
      "        \"PSScene4Band\"\n",
      "      ],\n",
      "      \"last_acquired\": \"2020-10-01T00:00:00.000Z\",\n",
      "      \"level\": 15,\n",
      "      \"name\": \"planet_medres_normalized_analytic_2020-09_mosaic\",\n",
      "      \"product_type\": \"timelapse\",\n",
      "      \"quad_download\": true\n",
      "    }\n",
      "  ]\n",
      "}\n"
     ]
    }
   ],
   "source": [
    "mosaic_name = \"planet_medres_normalized_analytic_\" + mosaic_date + \"_mosaic\"\n",
    "\n",
    "parameters = {\n",
    "    \"name__is\" : mosaic_name # <= customize to your use case\n",
    "}\n",
    "#make get request to access mosaic from basemaps API\n",
    "res = session.get(API_URL, params = parameters)\n",
    "print(\"status code:\", res.status_code) #response status code\n",
    "\n",
    "\n",
    "#print metadata for mosaic\n",
    "mosaic = res.json()\n",
    "print(\"mosaic metadata:\", json.dumps(mosaic, indent=2))"
   ]
  },
  {
   "cell_type": "code",
   "execution_count": 5,
   "metadata": {},
   "outputs": [
    {
     "name": "stdout",
     "output_type": "stream",
     "text": [
      "Mosaic id: 755805d4-8eba-4a61-a6ab-7514c1bde810\n",
      "mosaic bbox:  [-179.999999974944, -30.145127179527, 179.999999975056, 30.145127179625]\n",
      "string bbox: -71.78366,2.27885,-71.78366,2.27885\n"
     ]
    }
   ],
   "source": [
    "\n",
    "mosaic_id = mosaic['mosaics'][0]['id'] #get mosaic id\n",
    "print('Mosaic id: '+ mosaic_id)\n",
    "\n",
    "#get bbox for entire mosaic\n",
    "mosaic_bbox = mosaic['mosaics'][0]['bbox']\n",
    "print(\"mosaic bbox: \", mosaic_bbox)\n",
    "mosaic_bbox\n",
    "\n",
    "\n",
    "#convert mosaic bbox to string for search params\n",
    "#string_bbox = ','.join(map(str, mosaic_bbox))\n",
    "#print(string_bbox)\n",
    "\n",
    "\n",
    "\n",
    "print(\"string bbox:\", string_bbox)\n"
   ]
  },
  {
   "cell_type": "code",
   "execution_count": 6,
   "metadata": {},
   "outputs": [
    {
     "name": "stdout",
     "output_type": "stream",
     "text": [
      "[{'_links': {'download': 'https://api.planet.com/basemaps/v1/mosaics/755805d4-8eba-4a61-a6ab-7514c1bde810/quads/615-1036/full?api_key=ba80d8f478df4ec6ba4247ca3c9c8112'}, 'bbox': [-71.89453125, 2.1088986592431382, -71.71875, 2.28455066023697], 'id': '615-1036', 'percent_covered': None}]\n"
     ]
    }
   ],
   "source": [
    "#search for mosaic quad using AOI\n",
    "search_parameters = {\n",
    "    'bbox': string_bbox,\n",
    "    'minimal': True\n",
    "}\n",
    "\n",
    "#accessing quads using metadata from mosaic\n",
    "quads_url = \"{}/{}/quads\".format(API_URL, mosaic_id)\n",
    "res = session.get(quads_url, params=search_parameters, stream=True)\n",
    "quads = res.json()\n",
    "items = quads['items']\n",
    "print(items)"
   ]
  },
  {
   "cell_type": "code",
   "execution_count": 14,
   "metadata": {},
   "outputs": [],
   "source": [
    "\n",
    "\n",
    "#iterate over quad download links and save to folder by id\n",
    "for i in items:\n",
    "    link = i['_links']['download']\n",
    "    name = i['id'] + \"_\" + mosaic_date\n",
    "    name = name + '.tiff'\n",
    "    filename = os.path.join(DIR, name)\n",
    "\n",
    "    #checks if file already exists before saving\n",
    "    if not os.path.isfile(filename):\n",
    "        urllib.request.urlretrieve(link, filename)"
   ]
  },
  {
   "cell_type": "code",
   "execution_count": null,
   "metadata": {},
   "outputs": [],
   "source": []
  }
 ],
 "metadata": {
  "kernelspec": {
   "display_name": "Python 3",
   "language": "python",
   "name": "python3"
  },
  "language_info": {
   "codemirror_mode": {
    "name": "ipython",
    "version": 3
   },
   "file_extension": ".py",
   "mimetype": "text/x-python",
   "name": "python",
   "nbconvert_exporter": "python",
   "pygments_lexer": "ipython3",
   "version": "3.8.5"
  }
 },
 "nbformat": 4,
 "nbformat_minor": 4
}
