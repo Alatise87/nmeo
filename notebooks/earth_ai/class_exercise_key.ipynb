{
 "cells": [
  {
   "cell_type": "markdown",
   "metadata": {},
   "source": [
    "# Class exercises for EarthAI notebooks\n",
    "\n",
    "This is an adaptation for the in-class exercises for EarthAI notebooks that we went over in class the week of March 3."
   ]
  },
  {
   "cell_type": "markdown",
   "metadata": {},
   "source": [
    "## Load in libraries"
   ]
  },
  {
   "cell_type": "code",
   "execution_count": 2,
   "metadata": {},
   "outputs": [
    {
     "name": "stdout",
     "output_type": "stream",
     "text": [
      "\n",
      "Importing EarthAI libraries.\n",
      "EarthAI version 1.3.0; RasterFrames version 0.9.0.dev+astraea.1ce1ff3; PySpark version 2.4.4\n",
      "\n",
      "Creating SparkSession...\n",
      "  SparkSession is available as `spark`.\n"
     ]
    }
   ],
   "source": [
    "from earthai.init import *\n",
    "import folium\n",
    "import geopandas\n",
    "# from pyspark.sql.functions import lit\n",
    "import pyspark.sql.functions as F\n",
    "from shapely.geometry import Point"
   ]
  },
  {
   "cell_type": "markdown",
   "metadata": {},
   "source": [
    "## Load in administrative districts shape"
   ]
  },
  {
   "cell_type": "markdown",
   "metadata": {},
   "source": [
    "We can pick out a particular district (2838) and have a look at it's shape.  We want to use the center point of this district to select a time series of MODIS data\n",
    "\n",
    "First we select the district and look at it"
   ]
  },
  {
   "cell_type": "code",
   "execution_count": 3,
   "metadata": {},
   "outputs": [
    {
     "data": {
      "text/plain": [
       "<matplotlib.axes._subplots.AxesSubplot at 0x7f7ceb364710>"
      ]
     },
     "execution_count": 3,
     "metadata": {},
     "output_type": "execute_result"
    },
    {
     "data": {
      "image/png": "[encoded data removed]",
      "text/plain": [
       "<Figure size 432x288 with 1 Axes>"
      ]
     },
     "metadata": {
      "needs_background": "light"
     },
     "output_type": "display_data"
    }
   ],
   "source": [
    "geo_admin_url = 'https://raw.githubusercontent.com/datasets/geo-ne-admin1/master/data/admin1.geojson'\n",
    "adm1 = geopandas.read_file(geo_admin_url)#.drop(columns='id') \n",
    "# adm1_2838 = adm1[adm1.id.isin(['2838', '3342'])]  # more than one\n",
    "adm1_2838 = adm1[adm1.id.isin(['2838'])]  # just one\n",
    "adm1_2838.plot()  # matplotlib, if so desired (better is a folium map below)\n",
    "# print(adm1_2838)"
   ]
  },
  {
   "cell_type": "markdown",
   "metadata": {},
   "source": [
    "We can use the `centroid` function of geopandas to extract the center point of the district. `astype(str)` converts it to string. "
   ]
  },
  {
   "cell_type": "code",
   "execution_count": 4,
   "metadata": {},
   "outputs": [
    {
     "data": {
      "text/plain": [
       "700    POINT (17.44786430536906 1.925028617294588)\n",
       "dtype: object"
      ]
     },
     "execution_count": 4,
     "metadata": {},
     "output_type": "execute_result"
    }
   ],
   "source": [
    "adm1_2838.centroid.astype(str)"
   ]
  },
  {
   "cell_type": "markdown",
   "metadata": {},
   "source": [
    "Note that it has an index value of 700 next to it. We use to select it by index value to get just the text with the point value"
   ]
  },
  {
   "cell_type": "code",
   "execution_count": 5,
   "metadata": {},
   "outputs": [
    {
     "data": {
      "text/plain": [
       "'POINT (17.44786430536906 1.925028617294588)'"
      ]
     },
     "execution_count": 5,
     "metadata": {},
     "output_type": "execute_result"
    }
   ],
   "source": [
    "pt = adm1_2838.centroid.astype(str)[700]\n",
    "pt"
   ]
  },
  {
   "cell_type": "markdown",
   "metadata": {},
   "source": [
    "## Create a catalog\n",
    "\n",
    "We can use the point now to help create a catalog. We want all daily MODIS images (mcd43a4) for the year 2019 that intersect that point"
   ]
  },
  {
   "cell_type": "code",
   "execution_count": 6,
   "metadata": {},
   "outputs": [
    {
     "name": "stderr",
     "output_type": "stream",
     "text": [
      "100%|██████████| 365/365 [00:01<00:00, 242.70it/s]\n"
     ]
    }
   ],
   "source": [
    "catalog = earth_ondemand.read_catalog(\n",
    "    geo = pt,\n",
    "    #geo = 'POINT(15.6 0.02)', # we could have specified a point manually also\n",
    "    #geo = adm1_2838,  # or intersected with the district polygon also\n",
    "    start_datetime = '2019-01-01',\n",
    "    end_datetime = '2019-12-31',\n",
    "    max_cloud_cover = 100,\n",
    "    collections = 'mcd43a4', # from the \"id\" field\n",
    ")"
   ]
  },
  {
   "cell_type": "markdown",
   "metadata": {},
   "source": [
    "Running the code below gives you a look at the catalog's attributes"
   ]
  },
  {
   "cell_type": "code",
   "execution_count": 9,
   "metadata": {},
   "outputs": [
    {
     "name": "stdout",
     "output_type": "stream",
     "text": [
      "<class 'geopandas.geodataframe.GeoDataFrame'>\n",
      "Index(['eod_collection_attribution', 'eod_collection_display_name',\n",
      "       'eod_collection_family', 'eod_collection_family_display_name',\n",
      "       'eod_epsg4326_geometry_simplified', 'eod_grid_id', 'created',\n",
      "       'datetime', 'eo_cloud_cover', 'eo_gsd', 'eo_instrument', 'proj_crs',\n",
      "       'proj_geometry', 'updated', 'B06qa', 'B01', 'B05', 'B02', 'B01qa',\n",
      "       'B06', 'B02qa', 'B07qa', 'B05qa', 'B03qa', 'B03', 'B04', 'B07', 'B04qa',\n",
      "       'eod_thumbnail', 'collection', 'geometry', 'id'],\n",
      "      dtype='object')\n",
      "DataFrame `catalog` has 365 rows and  365 distinct scenes ids\n"
     ]
    }
   ],
   "source": [
    "print(type(catalog))\n",
    "print(catalog.columns)\n",
    "print('DataFrame `catalog` has', len(catalog), 'rows and ', len(catalog.id.unique()), 'distinct scenes ids')"
   ]
  },
  {
   "cell_type": "markdown",
   "metadata": {},
   "source": [
    "Running this shows us what bands are there. It is commented out because we don't want to run it, and just know that it tells us that we want the blue channel's quality band ('B03qa')"
   ]
  },
  {
   "cell_type": "code",
   "execution_count": 32,
   "metadata": {},
   "outputs": [],
   "source": [
    "# earth_ondemand.bands('mcd43a4')"
   ]
  },
  {
   "cell_type": "markdown",
   "metadata": {},
   "source": [
    "## Read the catalog into spark\n",
    "\n",
    "Now we load up the data into RasterFrames, so we can analyze.  We specify the band we want, and rename it to 'qual'"
   ]
  },
  {
   "cell_type": "code",
   "execution_count": 7,
   "metadata": {},
   "outputs": [],
   "source": [
    "df = spark.read.raster(catalog, catalog_col_names=['B03qa'])\\\n",
    "          .withColumnRenamed('B03qa', 'qual')"
   ]
  },
  {
   "cell_type": "markdown",
   "metadata": {},
   "source": [
    "Note that this process is lazy. No analysis is done until we need the results of an analysis.  Same with the next step, in which we apply a mask\n",
    "\n",
    "### Find how many pixels are > 0\n",
    "\n",
    "This is like masking, but filtering pixels > 0 to get areas of low quality, which suggests low quality. "
   ]
  },
  {
   "cell_type": "code",
   "execution_count": 8,
   "metadata": {},
   "outputs": [
    {
     "name": "stdout",
     "output_type": "stream",
     "text": [
      "['B03qa_path', 'qual', 'eod_collection_attribution', 'eod_collection_display_name', 'eod_collection_family', 'eod_collection_family_display_name', 'eod_epsg4326_geometry_simplified', 'eod_grid_id', 'created', 'datetime', 'eo_cloud_cover', 'eo_gsd', 'eo_instrument', 'proj_crs', 'proj_geometry', 'updated', 'B06qa', 'B01', 'B05', 'B02', 'B01qa', 'B06', 'B02qa', 'B07qa', 'B05qa', 'B03', 'B04', 'B07', 'B04qa', 'eod_thumbnail', 'collection', 'geometry', 'id', 'clouds']\n"
     ]
    }
   ],
   "source": [
    "masked = df.withColumn('clouds', rf_local_greater('qual', 0))\n",
    "print(masked.columns)"
   ]
  },
  {
   "cell_type": "markdown",
   "metadata": {},
   "source": [
    "Let's apply a histogram to one of these to see what the distribution of values is like"
   ]
  },
  {
   "cell_type": "code",
   "execution_count": 9,
   "metadata": {},
   "outputs": [
    {
     "name": "stdout",
     "output_type": "stream",
     "text": [
      "root\n",
      " |-- bins: array (nullable = true)\n",
      " |    |-- element: struct (containsNull = true)\n",
      " |    |    |-- value: double (nullable = false)\n",
      " |    |    |-- count: long (nullable = false)\n",
      "\n"
     ]
    },
    {
     "data": {
      "image/png": "[encoded data removed]",
      "text/plain": [
       "<Figure size 432x288 with 1 Axes>"
      ]
     },
     "metadata": {
      "needs_background": "light"
     },
     "output_type": "display_data"
    }
   ],
   "source": [
    "import matplotlib.pyplot as plt\n",
    "hist_df = masked.select(rf_tile_histogram('clouds')['bins'].alias('bins'))\n",
    "hist_df.printSchema()\n",
    "\n",
    "bins_row = hist_df.first()\n",
    "values = [int(bin['value']) for bin in bins_row.bins]\n",
    "counts = [int(bin['count']) for bin in bins_row.bins]\n",
    "\n",
    "plt.hist(values, weights=counts, bins=100)\n",
    "plt.show()"
   ]
  },
  {
   "cell_type": "markdown",
   "metadata": {},
   "source": [
    "Let's look at one of the masked tiles. This is new--we didn't do this in class, but it is more efficient than the process we used, which was to look at the RasterFrame contents, which was a bit slow.  We convert here the first image to a tile and display it"
   ]
  },
  {
   "cell_type": "code",
   "execution_count": 10,
   "metadata": {},
   "outputs": [
    {
     "data": {
      "image/png": "[encoded data removed]",
      "text/plain": [
       "Tile(masked_array(\n",
       "  data=[[1, 1, 1, ..., --, --, --],\n",
       "        [1, 1, 1, ..., --, --, --],\n",
       "        [1, 1, 1, ..., --, --, --],\n",
       "        ...,\n",
       "        [--, --, --, ..., --, --, --],\n",
       "        [--, --, --, ..., --, --, --],\n",
       "        [--, --, --, ..., --, --, --]],\n",
       "  mask=[[False, False, False, ...,  True,  True,  True],\n",
       "        [False, False, False, ...,  True,  True,  True],\n",
       "        [False, False, False, ...,  True,  True,  True],\n",
       "        ...,\n",
       "        [ True,  True,  True, ...,  True,  True,  True],\n",
       "        [ True,  True,  True, ...,  True,  True,  True],\n",
       "        [ True,  True,  True, ...,  True,  True,  True]],\n",
       "  fill_value=255,\n",
       "  dtype=uint8), uint8ud255)"
      ]
     },
     "metadata": {},
     "output_type": "display_data"
    }
   ],
   "source": [
    "t = masked.select(rf_tile('qual').alias('clouds')).first()['clouds']\n",
    "display(t)"
   ]
  },
  {
   "cell_type": "markdown",
   "metadata": {},
   "source": [
    "## Exercises\n",
    "\n",
    "The exercises we want to do on your own are as follows. \n",
    "\n",
    "We have created the derivatives necessary to create a time series to examine how cloudy it is over the course of the year in this part of the Congo.\n",
    "\n",
    "This will require you to:\n",
    "\n",
    "1. Create an image time series, by calculating the average level of cloudiness across weeks.\n",
    "\n",
    "    - To do this, you will need to:\n",
    "        - Apply the following functions on the `masked` object: `weekofyear`, `agg`, and `rf_agg_mean`\n",
    "        - The following code, from the `time-series.ipynb`, can help (see the [web version of](https://rasterframes.io//time-series.html) this notebook also):\n",
    "    \n",
    "        ```python\n",
    "        time_series = rf_park_tile \\\n",
    "            .groupby(\n",
    "                year('acquisition_date').alias('year'), \n",
    "                weekofyear('acquisition_date').alias('week')) \\\n",
    "            .agg(rf_agg_mean('ndvi_masked').alias('ndvi'))\n",
    "        ```\n",
    "        This shows how to do this over an NDVI time series. We are doing this by applying to our masked quality time series. \n",
    "\n",
    "2. Plot that as a time series\n",
    "\n",
    "    - The same time series has the example you need, which use plotly to create the time series plot. Before doing that, however, you have to convert the RasterFrames object to pandas using `toPandas`, e.g. \n",
    "    \n",
    "    ```python\n",
    "    time_series_pdf = time_series.toPandas()\n",
    "    ```\n",
    "    \n",
    "    - Then use plotly. From the same time-series example. Change the titles to relevant text for this cloudiness plot\n",
    "    \n",
    "    ```python\n",
    "    import matplotlib.pyplot as plt\n",
    "    time_series_pdf.sort_values('week', inplace=True)\n",
    "    plt.plot(time_series_pdf['week'], time_series_pdf['ndvi'], 'go-')\n",
    "    plt.ylim([-1, 1])  # note I added this to the example. You can set this [0, 1] for cloudiness\n",
    "    plt.xlabel('Week of year, 2018')\n",
    "    plt.ylabel('NDVI')\n",
    "    plt.title('Cuyahoga Valley NP Green-up')\n",
    "    ```\n",
    "    \n",
    "3. Do the same, but calculating the monthly mean cloudiness, and plot the time series of that also\n",
    "\n",
    "\n",
    "    **Note**: The conversion step `toPandas()` is what takes the longest. \n",
    "    \n",
    "4. **Bonus**, for the adventurous (and because I haven't worked out a solution for this yet).  Try and use `rf_agg_local_mean` to get a monthly raster composite showing cloud cover frequency. To do that, you will have to apply this to the time series step.  Pointers for how to do that are in the `aggregation.ipynb` notebook and the [online version](https://rasterframes.io/aggregation.html).  However, this is not trivial, because it doesn't work when the images have different extents. Even though these are the same MODIS tiles, I guess the extent are different, so to make this work, the extents of the images would have to be made the same.  I am guessing that entails cropping and possibly resampling each image to a common extent first, and then analyzing the time series. Maybe best to try this just on one or two months worth of data to start. "
   ]
  },
  {
   "cell_type": "markdown",
   "metadata": {},
   "source": [
    "## Key\n",
    "### Weekly time series\n",
    "Now that we have a mask, let's create a time series"
   ]
  },
  {
   "cell_type": "markdown",
   "metadata": {},
   "source": [
    "This is a new markdown cell"
   ]
  },
  {
   "cell_type": "code",
   "execution_count": 11,
   "metadata": {},
   "outputs": [],
   "source": [
    "time_series = masked.groupBy(F.weekofyear('datetime').alias('week')) \\\n",
    "                            .agg(rf_agg_mean('clouds').alias('clouds'))"
   ]
  },
  {
   "cell_type": "markdown",
   "metadata": {},
   "source": [
    "Convert the time series to a `pandas` DataFrame"
   ]
  },
  {
   "cell_type": "code",
   "execution_count": 12,
   "metadata": {},
   "outputs": [],
   "source": [
    "# print(time_series.columns)\n",
    "time_series_pdf = time_series.toPandas()"
   ]
  },
  {
   "cell_type": "code",
   "execution_count": 13,
   "metadata": {},
   "outputs": [
    {
     "data": {
      "text/plain": [
       "Text(0.5, 1.0, 'Monthly cloud cover')"
      ]
     },
     "execution_count": 13,
     "metadata": {},
     "output_type": "execute_result"
    },
    {
     "data": {
      "image/png": "[encoded data removed]",
      "text/plain": [
       "<Figure size 432x288 with 1 Axes>"
      ]
     },
     "metadata": {
      "needs_background": "light"
     },
     "output_type": "display_data"
    }
   ],
   "source": [
    "import matplotlib.pyplot as plt\n",
    "time_series_pdf.sort_values('week', inplace=True)\n",
    "plt.plot(time_series_pdf['week'], time_series_pdf['clouds'], 'go-')\n",
    "plt.ylim([0, 1])\n",
    "plt.xlabel('Month of year, 2019')\n",
    "plt.ylabel('Clouds')\n",
    "plt.title('Monthly cloud cover')"
   ]
  },
  {
   "cell_type": "markdown",
   "metadata": {},
   "source": [
    "### Monthly time series"
   ]
  },
  {
   "cell_type": "code",
   "execution_count": 80,
   "metadata": {},
   "outputs": [],
   "source": [
    "mtime_series = masked.groupBy(F.month('datetime').alias('month')) \\\n",
    "                              .agg(rf_agg_mean('clouds').alias('clouds'))\n",
    "mtime_series_pdf = mtime_series.toPandas()"
   ]
  },
  {
   "cell_type": "markdown",
   "metadata": {},
   "source": [
    "Monthly plot"
   ]
  },
  {
   "cell_type": "code",
   "execution_count": 81,
   "metadata": {},
   "outputs": [
    {
     "data": {
      "text/plain": [
       "Text(0.5, 1.0, 'Monthly cloud cover')"
      ]
     },
     "execution_count": 81,
     "metadata": {},
     "output_type": "execute_result"
    },
    {
     "data": {
      "image/png": "[encoded data removed]",
      "text/plain": [
       "<Figure size 432x288 with 1 Axes>"
      ]
     },
     "metadata": {
      "needs_background": "light"
     },
     "output_type": "display_data"
    }
   ],
   "source": [
    "mtime_series_pdf.sort_values('month', inplace=True)\n",
    "plt.plot(mtime_series_pdf['month'], mtime_series_pdf['clouds'], 'go-')\n",
    "plt.ylim([0, 1])\n",
    "plt.xlabel('Month of year, 2019')\n",
    "plt.ylabel('Clouds')\n",
    "plt.title('Monthly cloud cover')"
   ]
  }
 ],
 "metadata": {
  "kernelspec": {
   "display_name": "Python 3",
   "language": "python",
   "name": "python3"
  },
  "language_info": {
   "codemirror_mode": {
    "name": "ipython",
    "version": 3
   },
   "file_extension": ".py",
   "mimetype": "text/x-python",
   "name": "python",
   "nbconvert_exporter": "python",
   "pygments_lexer": "ipython3",
   "version": "3.7.6"
  }
 },
 "nbformat": 4,
 "nbformat_minor": 4
}
